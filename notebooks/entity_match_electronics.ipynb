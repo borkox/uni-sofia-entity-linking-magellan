{
 "cells": [
  {
   "cell_type": "markdown",
   "metadata": {},
   "source": [
    "## Preparing the dataset"
   ]
  },
  {
   "cell_type": "markdown",
   "metadata": {},
   "source": [
    "Following the instructons you should have checked out the project and started jupyter notebook in the parent folder.\n",
    "```\n",
    "uni-sofia-entity-linking-magellan    <= \"jupyter notebook\" started here\n",
    " |- datasets\n",
    " |- notebooks\n",
    "    |- entity_match_electronics.ipynb\n",
    "```\n",
    " "
   ]
  },
  {
   "cell_type": "code",
   "execution_count": 4,
   "metadata": {},
   "outputs": [
    {
     "name": "stdout",
     "output_type": "stream",
     "text": [
      "Archive:  ../dataset/dataset_electronics_ID_7.zip\n",
      "  inflating: ../dataset/amazon.csv   \n",
      "  inflating: ../dataset/best_buy.csv  \n"
     ]
    }
   ],
   "source": [
    "# Extract the zip file with dataset CSV files (amazon.csv, best_buy.csv )\n",
    "# -o is to overwrite\n",
    "!unzip -o ../dataset/dataset_electronics_ID_7.zip -d ../dataset/ "
   ]
  },
  {
   "cell_type": "code",
   "execution_count": 5,
   "metadata": {},
   "outputs": [],
   "source": [
    "# Import py_entitymatching package\n",
    "import py_entitymatching as em\n",
    "import os\n",
    "import pandas as pd"
   ]
  },
  {
   "cell_type": "code",
   "execution_count": 6,
   "metadata": {},
   "outputs": [
    {
     "name": "stderr",
     "output_type": "stream",
     "text": [
      "Metadata file is not present in the given path; proceeding to read the csv file.\n",
      "Metadata file is not present in the given path; proceeding to read the csv file.\n"
     ]
    }
   ],
   "source": [
    "# Read the CSV files and set 'ID' as the key attribute\n",
    "A = em.read_csv_metadata(\"../dataset/amazon.csv\", key='ID')\n",
    "B = em.read_csv_metadata(\"../dataset/best_buy.csv\", key='ID')"
   ]
  },
  {
   "cell_type": "markdown",
   "metadata": {},
   "source": [
    "Lets have a look at the loaded data frames. Notice that `A`.`Original_Price` can be null."
   ]
  },
  {
   "cell_type": "code",
   "execution_count": 7,
   "metadata": {},
   "outputs": [
    {
     "data": {
      "text/html": [
       "<div>\n",
       "<style scoped>\n",
       "    .dataframe tbody tr th:only-of-type {\n",
       "        vertical-align: middle;\n",
       "    }\n",
       "\n",
       "    .dataframe tbody tr th {\n",
       "        vertical-align: top;\n",
       "    }\n",
       "\n",
       "    .dataframe thead th {\n",
       "        text-align: right;\n",
       "    }\n",
       "</style>\n",
       "<table border=\"1\" class=\"dataframe\">\n",
       "  <thead>\n",
       "    <tr style=\"text-align: right;\">\n",
       "      <th></th>\n",
       "      <th>ID</th>\n",
       "      <th>Brand</th>\n",
       "      <th>Name</th>\n",
       "      <th>Amazon_Price</th>\n",
       "      <th>Original_Price</th>\n",
       "      <th>Features</th>\n",
       "    </tr>\n",
       "  </thead>\n",
       "  <tbody>\n",
       "    <tr>\n",
       "      <th>0</th>\n",
       "      <td>1</td>\n",
       "      <td>Asus</td>\n",
       "      <td>ASUS X205TA 11.6 Inch Laptop (Intel Atom, 2 GB, 32GB SSD, Gold) - Free Upgrade to Windows 10</td>\n",
       "      <td>$199.00</td>\n",
       "      <td>NaN</td>\n",
       "      <td>Intel Atom 1.33 GHz Processor. 2 GB DDR3 RAM. 32GB SSD Storage; No Optical Drive. 11.6 inches 13...</td>\n",
       "    </tr>\n",
       "    <tr>\n",
       "      <th>1</th>\n",
       "      <td>2</td>\n",
       "      <td>Other</td>\n",
       "      <td>AmazonBasics 11.6-Inch Laptop Sleeve</td>\n",
       "      <td>$9.99</td>\n",
       "      <td>NaN</td>\n",
       "      <td>Form-fitting sleeve with quick top-loading access for Chromebooks and MacBook Air laptops. Preci...</td>\n",
       "    </tr>\n",
       "    <tr>\n",
       "      <th>2</th>\n",
       "      <td>3</td>\n",
       "      <td>Lenovo</td>\n",
       "      <td>Lenovo G50 Entertainment Laptop - Black: DOORBUSTER - Intel Core i7-5500U (2.4GHz / 3.0 GHz Turb...</td>\n",
       "      <td>$799.77</td>\n",
       "      <td>$999.99</td>\n",
       "      <td>5th Generation Intel Core i7-5500U Processor (2.4 GHz Turbo / 3.0 GHz Base, 1600MHz 4MB). 15.6\\ ...</td>\n",
       "    </tr>\n",
       "  </tbody>\n",
       "</table>\n",
       "</div>"
      ],
      "text/plain": [
       "   ID   Brand  \\\n",
       "0   1    Asus   \n",
       "1   2   Other   \n",
       "2   3  Lenovo   \n",
       "\n",
       "                                                                                                  Name  \\\n",
       "0         ASUS X205TA 11.6 Inch Laptop (Intel Atom, 2 GB, 32GB SSD, Gold) - Free Upgrade to Windows 10   \n",
       "1                                                                 AmazonBasics 11.6-Inch Laptop Sleeve   \n",
       "2  Lenovo G50 Entertainment Laptop - Black: DOORBUSTER - Intel Core i7-5500U (2.4GHz / 3.0 GHz Turb...   \n",
       "\n",
       "  Amazon_Price Original_Price  \\\n",
       "0      $199.00            NaN   \n",
       "1        $9.99            NaN   \n",
       "2      $799.77        $999.99   \n",
       "\n",
       "                                                                                              Features  \n",
       "0  Intel Atom 1.33 GHz Processor. 2 GB DDR3 RAM. 32GB SSD Storage; No Optical Drive. 11.6 inches 13...  \n",
       "1  Form-fitting sleeve with quick top-loading access for Chromebooks and MacBook Air laptops. Preci...  \n",
       "2  5th Generation Intel Core i7-5500U Processor (2.4 GHz Turbo / 3.0 GHz Base, 1600MHz 4MB). 15.6\\ ...  "
      ]
     },
     "execution_count": 7,
     "metadata": {},
     "output_type": "execute_result"
    }
   ],
   "source": [
    "A.head(3)"
   ]
  },
  {
   "cell_type": "code",
   "execution_count": 8,
   "metadata": {},
   "outputs": [
    {
     "data": {
      "text/html": [
       "<div>\n",
       "<style scoped>\n",
       "    .dataframe tbody tr th:only-of-type {\n",
       "        vertical-align: middle;\n",
       "    }\n",
       "\n",
       "    .dataframe tbody tr th {\n",
       "        vertical-align: top;\n",
       "    }\n",
       "\n",
       "    .dataframe thead th {\n",
       "        text-align: right;\n",
       "    }\n",
       "</style>\n",
       "<table border=\"1\" class=\"dataframe\">\n",
       "  <thead>\n",
       "    <tr style=\"text-align: right;\">\n",
       "      <th></th>\n",
       "      <th>ID</th>\n",
       "      <th>Brand</th>\n",
       "      <th>Name</th>\n",
       "      <th>Price</th>\n",
       "      <th>Description</th>\n",
       "      <th>Features</th>\n",
       "    </tr>\n",
       "  </thead>\n",
       "  <tbody>\n",
       "    <tr>\n",
       "      <th>0</th>\n",
       "      <td>1</td>\n",
       "      <td>Asus</td>\n",
       "      <td>Asus 11.6 Laptop Intel Atom 2GB Memory 32GB Flash Storage Blue X205TA-SATM0404G</td>\n",
       "      <td>$189.99</td>\n",
       "      <td>11.6&amp;#34; Laptop - Intel Atom - 2GB Memory - 32GB Flash Storage, Read customer reviews and buy o...</td>\n",
       "      <td>Microsoft Windows 8.1 operating system preinstalled,Intel?? Atom??? processor Z3735F,2GB DDR3L m...</td>\n",
       "    </tr>\n",
       "    <tr>\n",
       "      <th>1</th>\n",
       "      <td>2</td>\n",
       "      <td>HP</td>\n",
       "      <td>HP 15.6 TouchScreen Laptop Intel Core i3 6GB Memory 750GB Hard Drive Black 15-r264dx</td>\n",
       "      <td>$379.99</td>\n",
       "      <td>15.6&amp;#34; Touch-Screen Laptop - Intel Core i3 - 6GB Memory - 750GB Hard Drive, Read customer rev...</td>\n",
       "      <td>Microsoft Windows 8.1 operating system preinstalled,5th Gen Intel?? Core??? i3-5010U processor,I...</td>\n",
       "    </tr>\n",
       "    <tr>\n",
       "      <th>2</th>\n",
       "      <td>3</td>\n",
       "      <td>Asus</td>\n",
       "      <td>Asus 2in1 13.3 TouchScreen Laptop Intel Core i5 6GB Memory 1TB Hard Drive Black Q302LA-BBI5T19</td>\n",
       "      <td>$749.99</td>\n",
       "      <td>2-in-1 13.3&amp;#34; Touch-Screen Laptop - Intel Core i5 - 6GB Memory - 1TB Hard Drive, Read custome...</td>\n",
       "      <td>Microsoft Windows 10 operating system,13.3 TFT-LCD touch screen for hands-on control,5th Gen Int...</td>\n",
       "    </tr>\n",
       "  </tbody>\n",
       "</table>\n",
       "</div>"
      ],
      "text/plain": [
       "   ID Brand  \\\n",
       "0   1  Asus   \n",
       "1   2    HP   \n",
       "2   3  Asus   \n",
       "\n",
       "                                                                                              Name  \\\n",
       "0                 Asus 11.6 Laptop Intel Atom 2GB Memory 32GB Flash Storage Blue X205TA-SATM0404G    \n",
       "1            HP 15.6 TouchScreen Laptop Intel Core i3 6GB Memory 750GB Hard Drive Black 15-r264dx    \n",
       "2  Asus 2in1 13.3 TouchScreen Laptop Intel Core i5 6GB Memory 1TB Hard Drive Black Q302LA-BBI5T19    \n",
       "\n",
       "     Price  \\\n",
       "0  $189.99   \n",
       "1  $379.99   \n",
       "2  $749.99   \n",
       "\n",
       "                                                                                           Description  \\\n",
       "0  11.6&#34; Laptop - Intel Atom - 2GB Memory - 32GB Flash Storage, Read customer reviews and buy o...   \n",
       "1  15.6&#34; Touch-Screen Laptop - Intel Core i3 - 6GB Memory - 750GB Hard Drive, Read customer rev...   \n",
       "2  2-in-1 13.3&#34; Touch-Screen Laptop - Intel Core i5 - 6GB Memory - 1TB Hard Drive, Read custome...   \n",
       "\n",
       "                                                                                              Features  \n",
       "0  Microsoft Windows 8.1 operating system preinstalled,Intel?? Atom??? processor Z3735F,2GB DDR3L m...  \n",
       "1  Microsoft Windows 8.1 operating system preinstalled,5th Gen Intel?? Core??? i3-5010U processor,I...  \n",
       "2  Microsoft Windows 10 operating system,13.3 TFT-LCD touch screen for hands-on control,5th Gen Int...  "
      ]
     },
     "execution_count": 8,
     "metadata": {},
     "output_type": "execute_result"
    }
   ],
   "source": [
    "B.head(3)"
   ]
  },
  {
   "cell_type": "code",
   "execution_count": 12,
   "metadata": {},
   "outputs": [
    {
     "name": "stdout",
     "output_type": "stream",
     "text": [
      "len(A): 4259\n",
      "len(B): 5001\n",
      "len(A) * len(B): 21299259\n"
     ]
    }
   ],
   "source": [
    "print(f\"len(A): {len(A)}\")\n",
    "print(f\"len(B): {len(B)}\")\n",
    "print(f\"len(A) * len(B): {len(A) * len(B)}\")"
   ]
  },
  {
   "cell_type": "markdown",
   "metadata": {},
   "source": [
    "# Block Tables and Make Set of Candidates\n",
    "\n",
    "Obviously having 21'299'259 records as a cross product between `A` and `B` is quite high value. What we are going to do now is to reduce obviously non-matching pairs. This process is called blocking tables `A` and `B`. We can use 2 of the blocking mechanisms provided by *py_entitymatching* and namely that would be:\n",
    " - attribute equivalence\n",
    " - overlap\n",
    "We know that for an electronics to match , it should be the same `Brand`, so this should match. Sometimes it can have error or typo in the brand, so we can use overlap for tokens in the `Name` and `Description`. Here is the blocking plan:"
   ]
  },
  {
   "cell_type": "code",
   "execution_count": null,
   "metadata": {},
   "outputs": [],
   "source": [
    "# Blocking plan\n",
    "\n",
    "# A, B -- AttrEquivalence blocker [Brand]-------------|\n",
    "#                                                     |---> candidate set\n",
    "# A, B -- Overlap blocker [Name]----------------------|"
   ]
  },
  {
   "cell_type": "code",
   "execution_count": 13,
   "metadata": {},
   "outputs": [
    {
     "data": {
      "text/plain": [
       "4439971"
      ]
     },
     "execution_count": 13,
     "metadata": {},
     "output_type": "execute_result"
    }
   ],
   "source": [
    "# Create attribute equivalence blocker\n",
    "ab = em.AttrEquivalenceBlocker()\n",
    "# Block tables using 'year' attribute : same year include in candidate set\n",
    "C1 = ab.block_tables(A, B, 'Brand', 'Brand', \n",
    "                     l_output_attrs=['Brand','Name','Amazon_Price','Original_Price','Features'],\n",
    "                     r_output_attrs=['Brand','Name','Price','Description','Features']\n",
    "                    )\n",
    "len(C1)"
   ]
  },
  {
   "cell_type": "code",
   "execution_count": 15,
   "metadata": {},
   "outputs": [
    {
     "data": {
      "text/html": [
       "<div>\n",
       "<style scoped>\n",
       "    .dataframe tbody tr th:only-of-type {\n",
       "        vertical-align: middle;\n",
       "    }\n",
       "\n",
       "    .dataframe tbody tr th {\n",
       "        vertical-align: top;\n",
       "    }\n",
       "\n",
       "    .dataframe thead th {\n",
       "        text-align: right;\n",
       "    }\n",
       "</style>\n",
       "<table border=\"1\" class=\"dataframe\">\n",
       "  <thead>\n",
       "    <tr style=\"text-align: right;\">\n",
       "      <th></th>\n",
       "      <th>_id</th>\n",
       "      <th>ltable_ID</th>\n",
       "      <th>rtable_ID</th>\n",
       "      <th>ltable_Brand</th>\n",
       "      <th>ltable_Name</th>\n",
       "      <th>ltable_Amazon_Price</th>\n",
       "      <th>ltable_Original_Price</th>\n",
       "      <th>ltable_Features</th>\n",
       "      <th>rtable_Brand</th>\n",
       "      <th>rtable_Name</th>\n",
       "      <th>rtable_Price</th>\n",
       "      <th>rtable_Description</th>\n",
       "      <th>rtable_Features</th>\n",
       "    </tr>\n",
       "  </thead>\n",
       "  <tbody>\n",
       "    <tr>\n",
       "      <th>0</th>\n",
       "      <td>0</td>\n",
       "      <td>1</td>\n",
       "      <td>1</td>\n",
       "      <td>Asus</td>\n",
       "      <td>ASUS X205TA 11.6 Inch Laptop (Intel Atom, 2 GB, 32GB SSD, Gold) - Free Upgrade to Windows 10</td>\n",
       "      <td>$199.00</td>\n",
       "      <td>NaN</td>\n",
       "      <td>Intel Atom 1.33 GHz Processor. 2 GB DDR3 RAM. 32GB SSD Storage; No Optical Drive. 11.6 inches 13...</td>\n",
       "      <td>Asus</td>\n",
       "      <td>Asus 11.6 Laptop Intel Atom 2GB Memory 32GB Flash Storage Blue X205TA-SATM0404G</td>\n",
       "      <td>$189.99</td>\n",
       "      <td>11.6&amp;#34; Laptop - Intel Atom - 2GB Memory - 32GB Flash Storage, Read customer reviews and buy o...</td>\n",
       "      <td>Microsoft Windows 8.1 operating system preinstalled,Intel?? Atom??? processor Z3735F,2GB DDR3L m...</td>\n",
       "    </tr>\n",
       "    <tr>\n",
       "      <th>1</th>\n",
       "      <td>1</td>\n",
       "      <td>1</td>\n",
       "      <td>3</td>\n",
       "      <td>Asus</td>\n",
       "      <td>ASUS X205TA 11.6 Inch Laptop (Intel Atom, 2 GB, 32GB SSD, Gold) - Free Upgrade to Windows 10</td>\n",
       "      <td>$199.00</td>\n",
       "      <td>NaN</td>\n",
       "      <td>Intel Atom 1.33 GHz Processor. 2 GB DDR3 RAM. 32GB SSD Storage; No Optical Drive. 11.6 inches 13...</td>\n",
       "      <td>Asus</td>\n",
       "      <td>Asus 2in1 13.3 TouchScreen Laptop Intel Core i5 6GB Memory 1TB Hard Drive Black Q302LA-BBI5T19</td>\n",
       "      <td>$749.99</td>\n",
       "      <td>2-in-1 13.3&amp;#34; Touch-Screen Laptop - Intel Core i5 - 6GB Memory - 1TB Hard Drive, Read custome...</td>\n",
       "      <td>Microsoft Windows 10 operating system,13.3 TFT-LCD touch screen for hands-on control,5th Gen Int...</td>\n",
       "    </tr>\n",
       "  </tbody>\n",
       "</table>\n",
       "</div>"
      ],
      "text/plain": [
       "   _id  ltable_ID  rtable_ID ltable_Brand  \\\n",
       "0    0          1          1         Asus   \n",
       "1    1          1          3         Asus   \n",
       "\n",
       "                                                                                    ltable_Name  \\\n",
       "0  ASUS X205TA 11.6 Inch Laptop (Intel Atom, 2 GB, 32GB SSD, Gold) - Free Upgrade to Windows 10   \n",
       "1  ASUS X205TA 11.6 Inch Laptop (Intel Atom, 2 GB, 32GB SSD, Gold) - Free Upgrade to Windows 10   \n",
       "\n",
       "  ltable_Amazon_Price ltable_Original_Price  \\\n",
       "0             $199.00                   NaN   \n",
       "1             $199.00                   NaN   \n",
       "\n",
       "                                                                                       ltable_Features  \\\n",
       "0  Intel Atom 1.33 GHz Processor. 2 GB DDR3 RAM. 32GB SSD Storage; No Optical Drive. 11.6 inches 13...   \n",
       "1  Intel Atom 1.33 GHz Processor. 2 GB DDR3 RAM. 32GB SSD Storage; No Optical Drive. 11.6 inches 13...   \n",
       "\n",
       "  rtable_Brand  \\\n",
       "0         Asus   \n",
       "1         Asus   \n",
       "\n",
       "                                                                                       rtable_Name  \\\n",
       "0                 Asus 11.6 Laptop Intel Atom 2GB Memory 32GB Flash Storage Blue X205TA-SATM0404G    \n",
       "1  Asus 2in1 13.3 TouchScreen Laptop Intel Core i5 6GB Memory 1TB Hard Drive Black Q302LA-BBI5T19    \n",
       "\n",
       "  rtable_Price  \\\n",
       "0      $189.99   \n",
       "1      $749.99   \n",
       "\n",
       "                                                                                    rtable_Description  \\\n",
       "0  11.6&#34; Laptop - Intel Atom - 2GB Memory - 32GB Flash Storage, Read customer reviews and buy o...   \n",
       "1  2-in-1 13.3&#34; Touch-Screen Laptop - Intel Core i5 - 6GB Memory - 1TB Hard Drive, Read custome...   \n",
       "\n",
       "                                                                                       rtable_Features  \n",
       "0  Microsoft Windows 8.1 operating system preinstalled,Intel?? Atom??? processor Z3735F,2GB DDR3L m...  \n",
       "1  Microsoft Windows 10 operating system,13.3 TFT-LCD touch screen for hands-on control,5th Gen Int...  "
      ]
     },
     "execution_count": 15,
     "metadata": {},
     "output_type": "execute_result"
    }
   ],
   "source": [
    "C1.head(2)"
   ]
  },
  {
   "cell_type": "code",
   "execution_count": 19,
   "metadata": {},
   "outputs": [
    {
     "name": "stderr",
     "output_type": "stream",
     "text": [
      "/home/bobi/anaconda3/lib/python3.9/site-packages/py_entitymatching/blocker/overlap_blocker.py:258: SettingWithCopyWarning: \n",
      "A value is trying to be set on a copy of a slice from a DataFrame.\n",
      "Try using .loc[row_indexer,col_indexer] = value instead\n",
      "\n",
      "See the caveats in the documentation: https://pandas.pydata.org/pandas-docs/stable/user_guide/indexing.html#returning-a-view-versus-a-copy\n",
      "  l_df[l_dummy_overlap_attr] = l_df[l_overlap_attr]\n",
      "/home/bobi/anaconda3/lib/python3.9/site-packages/py_entitymatching/blocker/overlap_blocker.py:259: SettingWithCopyWarning: \n",
      "A value is trying to be set on a copy of a slice from a DataFrame.\n",
      "Try using .loc[row_indexer,col_indexer] = value instead\n",
      "\n",
      "See the caveats in the documentation: https://pandas.pydata.org/pandas-docs/stable/user_guide/indexing.html#returning-a-view-versus-a-copy\n",
      "  r_df[r_dummy_overlap_attr] = r_df[r_overlap_attr]\n",
      "/home/bobi/anaconda3/lib/python3.9/site-packages/py_entitymatching/blocker/overlap_blocker.py:615: SettingWithCopyWarning: \n",
      "A value is trying to be set on a copy of a slice from a DataFrame.\n",
      "Try using .loc[row_indexer,col_indexer] = value instead\n",
      "\n",
      "See the caveats in the documentation: https://pandas.pydata.org/pandas-docs/stable/user_guide/indexing.html#returning-a-view-versus-a-copy\n",
      "  table[overlap_attr] = values\n",
      "/home/bobi/anaconda3/lib/python3.9/site-packages/py_stringsimjoin/utils/generic_helper.py:76: FutureWarning: In a future version of pandas all arguments of DataFrame.dropna will be keyword-only\n",
      "  projected_dataframe = dataframe[proj_attrs].dropna(0,\n",
      "0% [##############################] 100% | ETA: 00:00:00\n",
      "Total time elapsed: 00:00:03\n"
     ]
    },
    {
     "data": {
      "text/plain": [
       "1246333"
      ]
     },
     "execution_count": 19,
     "metadata": {},
     "output_type": "execute_result"
    }
   ],
   "source": [
    "# Initialize overlap blocker\n",
    "ob = em.OverlapBlocker()\n",
    "# Block over title attribute\n",
    "C2 = ob.block_tables(A, B, 'Name', 'Name', show_progress=True, overlap_size=3)\n",
    "len(C2)"
   ]
  },
  {
   "cell_type": "code",
   "execution_count": 20,
   "metadata": {},
   "outputs": [
    {
     "data": {
      "text/plain": [
       "5314261"
      ]
     },
     "execution_count": 20,
     "metadata": {},
     "output_type": "execute_result"
    }
   ],
   "source": [
    "# Combine the outputs from attr. equivalence blocker and overlap blocker\n",
    "C = em.combine_blocker_outputs_via_union([C1, C2])\n",
    "len(C)"
   ]
  },
  {
   "cell_type": "code",
   "execution_count": 21,
   "metadata": {},
   "outputs": [
    {
     "data": {
      "text/html": [
       "<div>\n",
       "<style scoped>\n",
       "    .dataframe tbody tr th:only-of-type {\n",
       "        vertical-align: middle;\n",
       "    }\n",
       "\n",
       "    .dataframe tbody tr th {\n",
       "        vertical-align: top;\n",
       "    }\n",
       "\n",
       "    .dataframe thead th {\n",
       "        text-align: right;\n",
       "    }\n",
       "</style>\n",
       "<table border=\"1\" class=\"dataframe\">\n",
       "  <thead>\n",
       "    <tr style=\"text-align: right;\">\n",
       "      <th></th>\n",
       "      <th>_id</th>\n",
       "      <th>ltable_ID</th>\n",
       "      <th>rtable_ID</th>\n",
       "      <th>ltable_Brand</th>\n",
       "      <th>ltable_Name</th>\n",
       "      <th>ltable_Amazon_Price</th>\n",
       "      <th>ltable_Original_Price</th>\n",
       "      <th>ltable_Features</th>\n",
       "      <th>rtable_Brand</th>\n",
       "      <th>rtable_Name</th>\n",
       "      <th>rtable_Price</th>\n",
       "      <th>rtable_Description</th>\n",
       "      <th>rtable_Features</th>\n",
       "    </tr>\n",
       "  </thead>\n",
       "  <tbody>\n",
       "    <tr>\n",
       "      <th>0</th>\n",
       "      <td>0</td>\n",
       "      <td>1</td>\n",
       "      <td>1</td>\n",
       "      <td>Asus</td>\n",
       "      <td>ASUS X205TA 11.6 Inch Laptop (Intel Atom, 2 GB, 32GB SSD, Gold) - Free Upgrade to Windows 10</td>\n",
       "      <td>$199.00</td>\n",
       "      <td>NaN</td>\n",
       "      <td>Intel Atom 1.33 GHz Processor. 2 GB DDR3 RAM. 32GB SSD Storage; No Optical Drive. 11.6 inches 13...</td>\n",
       "      <td>Asus</td>\n",
       "      <td>Asus 11.6 Laptop Intel Atom 2GB Memory 32GB Flash Storage Blue X205TA-SATM0404G</td>\n",
       "      <td>$189.99</td>\n",
       "      <td>11.6&amp;#34; Laptop - Intel Atom - 2GB Memory - 32GB Flash Storage, Read customer reviews and buy o...</td>\n",
       "      <td>Microsoft Windows 8.1 operating system preinstalled,Intel?? Atom??? processor Z3735F,2GB DDR3L m...</td>\n",
       "    </tr>\n",
       "    <tr>\n",
       "      <th>1</th>\n",
       "      <td>1</td>\n",
       "      <td>1</td>\n",
       "      <td>3</td>\n",
       "      <td>Asus</td>\n",
       "      <td>ASUS X205TA 11.6 Inch Laptop (Intel Atom, 2 GB, 32GB SSD, Gold) - Free Upgrade to Windows 10</td>\n",
       "      <td>$199.00</td>\n",
       "      <td>NaN</td>\n",
       "      <td>Intel Atom 1.33 GHz Processor. 2 GB DDR3 RAM. 32GB SSD Storage; No Optical Drive. 11.6 inches 13...</td>\n",
       "      <td>Asus</td>\n",
       "      <td>Asus 2in1 13.3 TouchScreen Laptop Intel Core i5 6GB Memory 1TB Hard Drive Black Q302LA-BBI5T19</td>\n",
       "      <td>$749.99</td>\n",
       "      <td>2-in-1 13.3&amp;#34; Touch-Screen Laptop - Intel Core i5 - 6GB Memory - 1TB Hard Drive, Read custome...</td>\n",
       "      <td>Microsoft Windows 10 operating system,13.3 TFT-LCD touch screen for hands-on control,5th Gen Int...</td>\n",
       "    </tr>\n",
       "    <tr>\n",
       "      <th>2</th>\n",
       "      <td>2</td>\n",
       "      <td>1</td>\n",
       "      <td>9</td>\n",
       "      <td>Asus</td>\n",
       "      <td>ASUS X205TA 11.6 Inch Laptop (Intel Atom, 2 GB, 32GB SSD, Gold) - Free Upgrade to Windows 10</td>\n",
       "      <td>$199.00</td>\n",
       "      <td>NaN</td>\n",
       "      <td>Intel Atom 1.33 GHz Processor. 2 GB DDR3 RAM. 32GB SSD Storage; No Optical Drive. 11.6 inches 13...</td>\n",
       "      <td>Samsung</td>\n",
       "      <td>Samsung 11.6 Chromebook 2 Intel Celeron 2GB Memory 16GB Flash Memory Silver XE500C12-K01US</td>\n",
       "      <td>$219.99</td>\n",
       "      <td>11.6&amp;#34; Chromebook 2 - Intel Celeron - 2GB Memory - 16GB Flash Memory, Read customer reviews a...</td>\n",
       "      <td>11.6 display,Intel?? Celeron?? processor N2840,2GB system memory,16GB eMMC flash memory,Built-in...</td>\n",
       "    </tr>\n",
       "  </tbody>\n",
       "</table>\n",
       "</div>"
      ],
      "text/plain": [
       "   _id  ltable_ID  rtable_ID ltable_Brand  \\\n",
       "0    0          1          1         Asus   \n",
       "1    1          1          3         Asus   \n",
       "2    2          1          9         Asus   \n",
       "\n",
       "                                                                                    ltable_Name  \\\n",
       "0  ASUS X205TA 11.6 Inch Laptop (Intel Atom, 2 GB, 32GB SSD, Gold) - Free Upgrade to Windows 10   \n",
       "1  ASUS X205TA 11.6 Inch Laptop (Intel Atom, 2 GB, 32GB SSD, Gold) - Free Upgrade to Windows 10   \n",
       "2  ASUS X205TA 11.6 Inch Laptop (Intel Atom, 2 GB, 32GB SSD, Gold) - Free Upgrade to Windows 10   \n",
       "\n",
       "  ltable_Amazon_Price ltable_Original_Price  \\\n",
       "0             $199.00                   NaN   \n",
       "1             $199.00                   NaN   \n",
       "2             $199.00                   NaN   \n",
       "\n",
       "                                                                                       ltable_Features  \\\n",
       "0  Intel Atom 1.33 GHz Processor. 2 GB DDR3 RAM. 32GB SSD Storage; No Optical Drive. 11.6 inches 13...   \n",
       "1  Intel Atom 1.33 GHz Processor. 2 GB DDR3 RAM. 32GB SSD Storage; No Optical Drive. 11.6 inches 13...   \n",
       "2  Intel Atom 1.33 GHz Processor. 2 GB DDR3 RAM. 32GB SSD Storage; No Optical Drive. 11.6 inches 13...   \n",
       "\n",
       "  rtable_Brand  \\\n",
       "0         Asus   \n",
       "1         Asus   \n",
       "2      Samsung   \n",
       "\n",
       "                                                                                       rtable_Name  \\\n",
       "0                 Asus 11.6 Laptop Intel Atom 2GB Memory 32GB Flash Storage Blue X205TA-SATM0404G    \n",
       "1  Asus 2in1 13.3 TouchScreen Laptop Intel Core i5 6GB Memory 1TB Hard Drive Black Q302LA-BBI5T19    \n",
       "2      Samsung 11.6 Chromebook 2 Intel Celeron 2GB Memory 16GB Flash Memory Silver XE500C12-K01US    \n",
       "\n",
       "  rtable_Price  \\\n",
       "0      $189.99   \n",
       "1      $749.99   \n",
       "2      $219.99   \n",
       "\n",
       "                                                                                    rtable_Description  \\\n",
       "0  11.6&#34; Laptop - Intel Atom - 2GB Memory - 32GB Flash Storage, Read customer reviews and buy o...   \n",
       "1  2-in-1 13.3&#34; Touch-Screen Laptop - Intel Core i5 - 6GB Memory - 1TB Hard Drive, Read custome...   \n",
       "2  11.6&#34; Chromebook 2 - Intel Celeron - 2GB Memory - 16GB Flash Memory, Read customer reviews a...   \n",
       "\n",
       "                                                                                       rtable_Features  \n",
       "0  Microsoft Windows 8.1 operating system preinstalled,Intel?? Atom??? processor Z3735F,2GB DDR3L m...  \n",
       "1  Microsoft Windows 10 operating system,13.3 TFT-LCD touch screen for hands-on control,5th Gen Int...  \n",
       "2  11.6 display,Intel?? Celeron?? processor N2840,2GB system memory,16GB eMMC flash memory,Built-in...  "
      ]
     },
     "execution_count": 21,
     "metadata": {},
     "output_type": "execute_result"
    }
   ],
   "source": [
    "C.head(3)"
   ]
  },
  {
   "cell_type": "code",
   "execution_count": null,
   "metadata": {},
   "outputs": [],
   "source": []
  }
 ],
 "metadata": {
  "kernelspec": {
   "display_name": "Python 3 (ipykernel)",
   "language": "python",
   "name": "python3"
  },
  "language_info": {
   "codemirror_mode": {
    "name": "ipython",
    "version": 3
   },
   "file_extension": ".py",
   "mimetype": "text/x-python",
   "name": "python",
   "nbconvert_exporter": "python",
   "pygments_lexer": "ipython3",
   "version": "3.9.7"
  }
 },
 "nbformat": 4,
 "nbformat_minor": 1
}
