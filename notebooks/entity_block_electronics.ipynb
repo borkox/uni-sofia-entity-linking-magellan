{
 "cells": [
  {
   "cell_type": "markdown",
   "metadata": {},
   "source": [
    "## Preparing the dataset"
   ]
  },
  {
   "cell_type": "markdown",
   "metadata": {},
   "source": [
    "Following the instructons you should have checked out the project and started jupyter notebook in the parent folder.\n",
    "```\n",
    "uni-sofia-entity-linking-magellan    <= \"jupyter notebook\" started here\n",
    " |- datasets\n",
    " |- notebooks\n",
    "    |- entity_match_electronics.ipynb\n",
    "```\n",
    " "
   ]
  },
  {
   "cell_type": "code",
   "execution_count": 97,
   "metadata": {},
   "outputs": [
    {
     "name": "stdout",
     "output_type": "stream",
     "text": [
      "Archive:  ../dataset/dataset_electronics_ID_8.zip\r\n",
      "  inflating: ../dataset/amazon.csv   \r\n",
      "  inflating: ../dataset/best_buy.csv  \r\n"
     ]
    }
   ],
   "source": [
    "# Extract the zip file with dataset CSV files (amazon.csv, best_buy.csv )\n",
    "# -o is to overwrite\n",
    "!unzip -o ../dataset/dataset_electronics_ID_8.zip -d ../dataset/ "
   ]
  },
  {
   "cell_type": "code",
   "execution_count": 98,
   "metadata": {},
   "outputs": [],
   "source": [
    "# Import py_entitymatching package\n",
    "import py_entitymatching as em\n",
    "import os\n",
    "import pandas as pd"
   ]
  },
  {
   "cell_type": "code",
   "execution_count": 99,
   "metadata": {},
   "outputs": [
    {
     "name": "stderr",
     "output_type": "stream",
     "text": [
      "Metadata file is not present in the given path; proceeding to read the csv file.\n",
      "Metadata file is not present in the given path; proceeding to read the csv file.\n"
     ]
    }
   ],
   "source": [
    "# Read the CSV files and set 'ID' as the key attribute\n",
    "A = em.read_csv_metadata(\"../dataset/amazon.csv\", key='ID')\n",
    "B = em.read_csv_metadata(\"../dataset/best_buy.csv\", key='ID')"
   ]
  },
  {
   "cell_type": "markdown",
   "metadata": {},
   "source": [
    "Lets have a look at the loaded data frames. Notice that `A`.`Original_Price` can be null."
   ]
  },
  {
   "cell_type": "code",
   "execution_count": 100,
   "metadata": {},
   "outputs": [
    {
     "data": {
      "text/html": [
       "<div>\n",
       "<style scoped>\n",
       "    .dataframe tbody tr th:only-of-type {\n",
       "        vertical-align: middle;\n",
       "    }\n",
       "\n",
       "    .dataframe tbody tr th {\n",
       "        vertical-align: top;\n",
       "    }\n",
       "\n",
       "    .dataframe thead th {\n",
       "        text-align: right;\n",
       "    }\n",
       "</style>\n",
       "<table border=\"1\" class=\"dataframe\">\n",
       "  <thead>\n",
       "    <tr style=\"text-align: right;\">\n",
       "      <th></th>\n",
       "      <th>ID</th>\n",
       "      <th>Brand</th>\n",
       "      <th>Name</th>\n",
       "      <th>Amazon_Price</th>\n",
       "      <th>Original_Price</th>\n",
       "      <th>Features</th>\n",
       "    </tr>\n",
       "  </thead>\n",
       "  <tbody>\n",
       "    <tr>\n",
       "      <th>0</th>\n",
       "      <td>1</td>\n",
       "      <td>Asus</td>\n",
       "      <td>ASUS X205TA 11.6 Inch Laptop (Intel Atom, 2 GB, 32GB SSD, Gold) - Free Upgrade to Windows 10</td>\n",
       "      <td>$199.00</td>\n",
       "      <td>NaN</td>\n",
       "      <td>Intel Atom 1.33 GHz Processor. 2 GB DDR3 RAM. 32GB SSD Storage; No Optical Drive. 11.6 inches 13...</td>\n",
       "    </tr>\n",
       "    <tr>\n",
       "      <th>1</th>\n",
       "      <td>2</td>\n",
       "      <td>Other</td>\n",
       "      <td>AmazonBasics 11.6-Inch Laptop Sleeve</td>\n",
       "      <td>$9.99</td>\n",
       "      <td>NaN</td>\n",
       "      <td>Form-fitting sleeve with quick top-loading access for Chromebooks and MacBook Air laptops. Preci...</td>\n",
       "    </tr>\n",
       "    <tr>\n",
       "      <th>2</th>\n",
       "      <td>3</td>\n",
       "      <td>Lenovo</td>\n",
       "      <td>Lenovo G50 Entertainment Laptop - Black: DOORBUSTER - Intel Core i7-5500U (2.4GHz / 3.0 GHz Turb...</td>\n",
       "      <td>$799.77</td>\n",
       "      <td>$999.99</td>\n",
       "      <td>5th Generation Intel Core i7-5500U Processor (2.4 GHz Turbo / 3.0 GHz Base, 1600MHz 4MB). 15.6\\ ...</td>\n",
       "    </tr>\n",
       "  </tbody>\n",
       "</table>\n",
       "</div>"
      ],
      "text/plain": [
       "   ID   Brand  \\\n",
       "0   1    Asus   \n",
       "1   2   Other   \n",
       "2   3  Lenovo   \n",
       "\n",
       "                                                                                                  Name  \\\n",
       "0         ASUS X205TA 11.6 Inch Laptop (Intel Atom, 2 GB, 32GB SSD, Gold) - Free Upgrade to Windows 10   \n",
       "1                                                                 AmazonBasics 11.6-Inch Laptop Sleeve   \n",
       "2  Lenovo G50 Entertainment Laptop - Black: DOORBUSTER - Intel Core i7-5500U (2.4GHz / 3.0 GHz Turb...   \n",
       "\n",
       "  Amazon_Price Original_Price  \\\n",
       "0      $199.00            NaN   \n",
       "1        $9.99            NaN   \n",
       "2      $799.77        $999.99   \n",
       "\n",
       "                                                                                              Features  \n",
       "0  Intel Atom 1.33 GHz Processor. 2 GB DDR3 RAM. 32GB SSD Storage; No Optical Drive. 11.6 inches 13...  \n",
       "1  Form-fitting sleeve with quick top-loading access for Chromebooks and MacBook Air laptops. Preci...  \n",
       "2  5th Generation Intel Core i7-5500U Processor (2.4 GHz Turbo / 3.0 GHz Base, 1600MHz 4MB). 15.6\\ ...  "
      ]
     },
     "execution_count": 100,
     "metadata": {},
     "output_type": "execute_result"
    }
   ],
   "source": [
    "A.head(3)"
   ]
  },
  {
   "cell_type": "code",
   "execution_count": 101,
   "metadata": {},
   "outputs": [
    {
     "data": {
      "text/html": [
       "<div>\n",
       "<style scoped>\n",
       "    .dataframe tbody tr th:only-of-type {\n",
       "        vertical-align: middle;\n",
       "    }\n",
       "\n",
       "    .dataframe tbody tr th {\n",
       "        vertical-align: top;\n",
       "    }\n",
       "\n",
       "    .dataframe thead th {\n",
       "        text-align: right;\n",
       "    }\n",
       "</style>\n",
       "<table border=\"1\" class=\"dataframe\">\n",
       "  <thead>\n",
       "    <tr style=\"text-align: right;\">\n",
       "      <th></th>\n",
       "      <th>ID</th>\n",
       "      <th>Brand</th>\n",
       "      <th>Name</th>\n",
       "      <th>Price</th>\n",
       "      <th>Description</th>\n",
       "      <th>Features</th>\n",
       "    </tr>\n",
       "  </thead>\n",
       "  <tbody>\n",
       "    <tr>\n",
       "      <th>0</th>\n",
       "      <td>1</td>\n",
       "      <td>Asus</td>\n",
       "      <td>Asus 11.6 Laptop Intel Atom 2GB Memory 32GB Flash Storage Blue X205TA-SATM0404G</td>\n",
       "      <td>$189.99</td>\n",
       "      <td>11.6&amp;#34; Laptop - Intel Atom - 2GB Memory - 32GB Flash Storage, Read customer reviews and buy o...</td>\n",
       "      <td>Microsoft Windows 8.1 operating system preinstalled,Intel?? Atom??? processor Z3735F,2GB DDR3L m...</td>\n",
       "    </tr>\n",
       "    <tr>\n",
       "      <th>1</th>\n",
       "      <td>2</td>\n",
       "      <td>HP</td>\n",
       "      <td>HP 15.6 TouchScreen Laptop Intel Core i3 6GB Memory 750GB Hard Drive Black 15-r264dx</td>\n",
       "      <td>$379.99</td>\n",
       "      <td>15.6&amp;#34; Touch-Screen Laptop - Intel Core i3 - 6GB Memory - 750GB Hard Drive, Read customer rev...</td>\n",
       "      <td>Microsoft Windows 8.1 operating system preinstalled,5th Gen Intel?? Core??? i3-5010U processor,I...</td>\n",
       "    </tr>\n",
       "    <tr>\n",
       "      <th>2</th>\n",
       "      <td>3</td>\n",
       "      <td>Asus</td>\n",
       "      <td>Asus 2in1 13.3 TouchScreen Laptop Intel Core i5 6GB Memory 1TB Hard Drive Black Q302LA-BBI5T19</td>\n",
       "      <td>$749.99</td>\n",
       "      <td>2-in-1 13.3&amp;#34; Touch-Screen Laptop - Intel Core i5 - 6GB Memory - 1TB Hard Drive, Read custome...</td>\n",
       "      <td>Microsoft Windows 10 operating system,13.3 TFT-LCD touch screen for hands-on control,5th Gen Int...</td>\n",
       "    </tr>\n",
       "  </tbody>\n",
       "</table>\n",
       "</div>"
      ],
      "text/plain": [
       "   ID Brand  \\\n",
       "0   1  Asus   \n",
       "1   2    HP   \n",
       "2   3  Asus   \n",
       "\n",
       "                                                                                              Name  \\\n",
       "0                 Asus 11.6 Laptop Intel Atom 2GB Memory 32GB Flash Storage Blue X205TA-SATM0404G    \n",
       "1            HP 15.6 TouchScreen Laptop Intel Core i3 6GB Memory 750GB Hard Drive Black 15-r264dx    \n",
       "2  Asus 2in1 13.3 TouchScreen Laptop Intel Core i5 6GB Memory 1TB Hard Drive Black Q302LA-BBI5T19    \n",
       "\n",
       "     Price  \\\n",
       "0  $189.99   \n",
       "1  $379.99   \n",
       "2  $749.99   \n",
       "\n",
       "                                                                                           Description  \\\n",
       "0  11.6&#34; Laptop - Intel Atom - 2GB Memory - 32GB Flash Storage, Read customer reviews and buy o...   \n",
       "1  15.6&#34; Touch-Screen Laptop - Intel Core i3 - 6GB Memory - 750GB Hard Drive, Read customer rev...   \n",
       "2  2-in-1 13.3&#34; Touch-Screen Laptop - Intel Core i5 - 6GB Memory - 1TB Hard Drive, Read custome...   \n",
       "\n",
       "                                                                                              Features  \n",
       "0  Microsoft Windows 8.1 operating system preinstalled,Intel?? Atom??? processor Z3735F,2GB DDR3L m...  \n",
       "1  Microsoft Windows 8.1 operating system preinstalled,5th Gen Intel?? Core??? i3-5010U processor,I...  \n",
       "2  Microsoft Windows 10 operating system,13.3 TFT-LCD touch screen for hands-on control,5th Gen Int...  "
      ]
     },
     "execution_count": 101,
     "metadata": {},
     "output_type": "execute_result"
    }
   ],
   "source": [
    "B.head(3)"
   ]
  },
  {
   "cell_type": "code",
   "execution_count": 102,
   "metadata": {},
   "outputs": [
    {
     "name": "stdout",
     "output_type": "stream",
     "text": [
      "len(A): 4259\n",
      "len(B): 5001\n",
      "len(A) * len(B): 21299259\n"
     ]
    }
   ],
   "source": [
    "print(f\"len(A): {len(A)}\")\n",
    "print(f\"len(B): {len(B)}\")\n",
    "print(f\"len(A) * len(B): {len(A) * len(B)}\")"
   ]
  },
  {
   "cell_type": "markdown",
   "metadata": {},
   "source": [
    "## Creating additional features is important\n",
    "Here we will try to parse and make additional features"
   ]
  },
  {
   "cell_type": "code",
   "execution_count": 103,
   "metadata": {},
   "outputs": [
    {
     "name": "stdout",
     "output_type": "stream",
     "text": [
      "2 1 13.3 i5 6GB 1TB\n",
      "i5 6GB 1TB\n"
     ]
    }
   ],
   "source": [
    "# Tokens with digits are important\n",
    "# so we introduce new field that will contain only tokens with digits, which might be \n",
    "# monitor length, cpu, ram, etc.\n",
    "\n",
    "import re\n",
    "def filter_tokens_with_digits(s):\n",
    "    s = str(s)\n",
    "    s = re.sub('&#34;|[*\\\\\\()\\-\\/]', ' ',s)\n",
    "    s = re.sub(',', ' ',s)\n",
    "    toks = s.split()\n",
    "    toks = list(filter(lambda x: bool(re.search(r'\\d', x)), toks))\n",
    "    return ' '.join(toks)\n",
    "\n",
    "def filter_toks_letters(s):\n",
    "    s = str(s)\n",
    "    toks = s.split()\n",
    "    toks = list(filter(lambda x: bool(re.search(r'[a-zA-Z]', x)), toks))\n",
    "    return ' '.join(toks)\n",
    "\n",
    "# Example\n",
    "print(filter_tokens_with_digits('2-in-1 13.3&#34; Touch,-Screen Laptop - Intel Core i5 - 6GB Memory - 1TB Hard Drive, Read'))\n",
    "print(filter_toks_letters(filter_tokens_with_digits('2-in-1 13.3&#34; Touch,-Screen Laptop - Intel Core i5 - 6GB Memory - 1TB Hard Drive, Read')))"
   ]
  },
  {
   "cell_type": "code",
   "execution_count": 104,
   "metadata": {},
   "outputs": [
    {
     "data": {
      "text/html": [
       "<div>\n",
       "<style scoped>\n",
       "    .dataframe tbody tr th:only-of-type {\n",
       "        vertical-align: middle;\n",
       "    }\n",
       "\n",
       "    .dataframe tbody tr th {\n",
       "        vertical-align: top;\n",
       "    }\n",
       "\n",
       "    .dataframe thead th {\n",
       "        text-align: right;\n",
       "    }\n",
       "</style>\n",
       "<table border=\"1\" class=\"dataframe\">\n",
       "  <thead>\n",
       "    <tr style=\"text-align: right;\">\n",
       "      <th></th>\n",
       "      <th>ID</th>\n",
       "      <th>Brand</th>\n",
       "      <th>Name</th>\n",
       "      <th>Amazon_Price</th>\n",
       "      <th>Original_Price</th>\n",
       "      <th>Features</th>\n",
       "      <th>Parameters</th>\n",
       "    </tr>\n",
       "  </thead>\n",
       "  <tbody>\n",
       "    <tr>\n",
       "      <th>0</th>\n",
       "      <td>1</td>\n",
       "      <td>Asus</td>\n",
       "      <td>ASUS X205TA 11.6 Inch Laptop (Intel Atom, 2 GB, 32GB SSD, Gold) - Free Upgrade to Windows 10</td>\n",
       "      <td>$199.00</td>\n",
       "      <td>NaN</td>\n",
       "      <td>Intel Atom 1.33 GHz Processor. 2 GB DDR3 RAM. 32GB SSD Storage; No Optical Drive. 11.6 inches 13...</td>\n",
       "      <td>X205TA 11.6 2 32GB 10 1.33 2 DDR3 32GB 11.6 1366 768 8.1</td>\n",
       "    </tr>\n",
       "    <tr>\n",
       "      <th>1</th>\n",
       "      <td>2</td>\n",
       "      <td>Other</td>\n",
       "      <td>AmazonBasics 11.6-Inch Laptop Sleeve</td>\n",
       "      <td>$9.99</td>\n",
       "      <td>NaN</td>\n",
       "      <td>Form-fitting sleeve with quick top-loading access for Chromebooks and MacBook Air laptops. Preci...</td>\n",
       "      <td>11.6 11.6 11.4 0.4 8.4 12.2 0.8 9</td>\n",
       "    </tr>\n",
       "    <tr>\n",
       "      <th>2</th>\n",
       "      <td>3</td>\n",
       "      <td>Lenovo</td>\n",
       "      <td>Lenovo G50 Entertainment Laptop - Black: DOORBUSTER - Intel Core i7-5500U (2.4GHz / 3.0 GHz Turb...</td>\n",
       "      <td>$799.77</td>\n",
       "      <td>$999.99</td>\n",
       "      <td>5th Generation Intel Core i7-5500U Processor (2.4 GHz Turbo / 3.0 GHz Base, 1600MHz 4MB). 15.6\\ ...</td>\n",
       "      <td>G50 i7 5500U 2.4GHz 3.0 8GB 1TB 15.6 1080P USB3.0 8.1 5th i7 5500U 2.4 3.0 1600MHz 4MB 15.6 1080...</td>\n",
       "    </tr>\n",
       "  </tbody>\n",
       "</table>\n",
       "</div>"
      ],
      "text/plain": [
       "   ID   Brand  \\\n",
       "0   1    Asus   \n",
       "1   2   Other   \n",
       "2   3  Lenovo   \n",
       "\n",
       "                                                                                                  Name  \\\n",
       "0         ASUS X205TA 11.6 Inch Laptop (Intel Atom, 2 GB, 32GB SSD, Gold) - Free Upgrade to Windows 10   \n",
       "1                                                                 AmazonBasics 11.6-Inch Laptop Sleeve   \n",
       "2  Lenovo G50 Entertainment Laptop - Black: DOORBUSTER - Intel Core i7-5500U (2.4GHz / 3.0 GHz Turb...   \n",
       "\n",
       "  Amazon_Price Original_Price  \\\n",
       "0      $199.00            NaN   \n",
       "1        $9.99            NaN   \n",
       "2      $799.77        $999.99   \n",
       "\n",
       "                                                                                              Features  \\\n",
       "0  Intel Atom 1.33 GHz Processor. 2 GB DDR3 RAM. 32GB SSD Storage; No Optical Drive. 11.6 inches 13...   \n",
       "1  Form-fitting sleeve with quick top-loading access for Chromebooks and MacBook Air laptops. Preci...   \n",
       "2  5th Generation Intel Core i7-5500U Processor (2.4 GHz Turbo / 3.0 GHz Base, 1600MHz 4MB). 15.6\\ ...   \n",
       "\n",
       "                                                                                            Parameters  \n",
       "0                                             X205TA 11.6 2 32GB 10 1.33 2 DDR3 32GB 11.6 1366 768 8.1  \n",
       "1                                                                    11.6 11.6 11.4 0.4 8.4 12.2 0.8 9  \n",
       "2  G50 i7 5500U 2.4GHz 3.0 8GB 1TB 15.6 1080P USB3.0 8.1 5th i7 5500U 2.4 3.0 1600MHz 4MB 15.6 1080...  "
      ]
     },
     "execution_count": 104,
     "metadata": {},
     "output_type": "execute_result"
    }
   ],
   "source": [
    "A['Parameters'] = A['Name'] + \" \" + A['Features']\n",
    "A['Parameters'] = A['Parameters'].apply(filter_tokens_with_digits)\n",
    "A.head(3)"
   ]
  },
  {
   "cell_type": "code",
   "execution_count": null,
   "metadata": {},
   "outputs": [],
   "source": []
  },
  {
   "cell_type": "code",
   "execution_count": 105,
   "metadata": {},
   "outputs": [
    {
     "data": {
      "text/html": [
       "<div>\n",
       "<style scoped>\n",
       "    .dataframe tbody tr th:only-of-type {\n",
       "        vertical-align: middle;\n",
       "    }\n",
       "\n",
       "    .dataframe tbody tr th {\n",
       "        vertical-align: top;\n",
       "    }\n",
       "\n",
       "    .dataframe thead th {\n",
       "        text-align: right;\n",
       "    }\n",
       "</style>\n",
       "<table border=\"1\" class=\"dataframe\">\n",
       "  <thead>\n",
       "    <tr style=\"text-align: right;\">\n",
       "      <th></th>\n",
       "      <th>ID</th>\n",
       "      <th>Brand</th>\n",
       "      <th>Name</th>\n",
       "      <th>Price</th>\n",
       "      <th>Description</th>\n",
       "      <th>Features</th>\n",
       "      <th>Parameters</th>\n",
       "    </tr>\n",
       "  </thead>\n",
       "  <tbody>\n",
       "    <tr>\n",
       "      <th>0</th>\n",
       "      <td>1</td>\n",
       "      <td>Asus</td>\n",
       "      <td>Asus 11.6 Laptop Intel Atom 2GB Memory 32GB Flash Storage Blue X205TA-SATM0404G</td>\n",
       "      <td>$189.99</td>\n",
       "      <td>11.6&amp;#34; Laptop - Intel Atom - 2GB Memory - 32GB Flash Storage, Read customer reviews and buy o...</td>\n",
       "      <td>Microsoft Windows 8.1 operating system preinstalled,Intel?? Atom??? processor Z3735F,2GB DDR3L m...</td>\n",
       "      <td>11.6 2GB 32GB X205TA SATM0404G 11.6 2GB 32GB 8.1 Z3735F 2GB DDR3L 11.6 32GB 0.3MP 2 2.0 802.11a ...</td>\n",
       "    </tr>\n",
       "    <tr>\n",
       "      <th>1</th>\n",
       "      <td>2</td>\n",
       "      <td>HP</td>\n",
       "      <td>HP 15.6 TouchScreen Laptop Intel Core i3 6GB Memory 750GB Hard Drive Black 15-r264dx</td>\n",
       "      <td>$379.99</td>\n",
       "      <td>15.6&amp;#34; Touch-Screen Laptop - Intel Core i3 - 6GB Memory - 750GB Hard Drive, Read customer rev...</td>\n",
       "      <td>Microsoft Windows 8.1 operating system preinstalled,5th Gen Intel?? Core??? i3-5010U processor,I...</td>\n",
       "      <td>15.6 i3 6GB 750GB 15 r264dx 15.6 i3 6GB 750GB 8.1 5th i3 5010U i3 6GB DDR3L 15.6 750GB 7200 5500...</td>\n",
       "    </tr>\n",
       "    <tr>\n",
       "      <th>2</th>\n",
       "      <td>3</td>\n",
       "      <td>Asus</td>\n",
       "      <td>Asus 2in1 13.3 TouchScreen Laptop Intel Core i5 6GB Memory 1TB Hard Drive Black Q302LA-BBI5T19</td>\n",
       "      <td>$749.99</td>\n",
       "      <td>2-in-1 13.3&amp;#34; Touch-Screen Laptop - Intel Core i5 - 6GB Memory - 1TB Hard Drive, Read custome...</td>\n",
       "      <td>Microsoft Windows 10 operating system,13.3 TFT-LCD touch screen for hands-on control,5th Gen Int...</td>\n",
       "      <td>2in1 13.3 i5 6GB 1TB Q302LA BBI5T19 2 1 13.3 i5 6GB 1TB 10 13.3 5th i5 5200U 6GB 1TB 3.75 0.87 2...</td>\n",
       "    </tr>\n",
       "  </tbody>\n",
       "</table>\n",
       "</div>"
      ],
      "text/plain": [
       "   ID Brand  \\\n",
       "0   1  Asus   \n",
       "1   2    HP   \n",
       "2   3  Asus   \n",
       "\n",
       "                                                                                              Name  \\\n",
       "0                 Asus 11.6 Laptop Intel Atom 2GB Memory 32GB Flash Storage Blue X205TA-SATM0404G    \n",
       "1            HP 15.6 TouchScreen Laptop Intel Core i3 6GB Memory 750GB Hard Drive Black 15-r264dx    \n",
       "2  Asus 2in1 13.3 TouchScreen Laptop Intel Core i5 6GB Memory 1TB Hard Drive Black Q302LA-BBI5T19    \n",
       "\n",
       "     Price  \\\n",
       "0  $189.99   \n",
       "1  $379.99   \n",
       "2  $749.99   \n",
       "\n",
       "                                                                                           Description  \\\n",
       "0  11.6&#34; Laptop - Intel Atom - 2GB Memory - 32GB Flash Storage, Read customer reviews and buy o...   \n",
       "1  15.6&#34; Touch-Screen Laptop - Intel Core i3 - 6GB Memory - 750GB Hard Drive, Read customer rev...   \n",
       "2  2-in-1 13.3&#34; Touch-Screen Laptop - Intel Core i5 - 6GB Memory - 1TB Hard Drive, Read custome...   \n",
       "\n",
       "                                                                                              Features  \\\n",
       "0  Microsoft Windows 8.1 operating system preinstalled,Intel?? Atom??? processor Z3735F,2GB DDR3L m...   \n",
       "1  Microsoft Windows 8.1 operating system preinstalled,5th Gen Intel?? Core??? i3-5010U processor,I...   \n",
       "2  Microsoft Windows 10 operating system,13.3 TFT-LCD touch screen for hands-on control,5th Gen Int...   \n",
       "\n",
       "                                                                                            Parameters  \n",
       "0  11.6 2GB 32GB X205TA SATM0404G 11.6 2GB 32GB 8.1 Z3735F 2GB DDR3L 11.6 32GB 0.3MP 2 2.0 802.11a ...  \n",
       "1  15.6 i3 6GB 750GB 15 r264dx 15.6 i3 6GB 750GB 8.1 5th i3 5010U i3 6GB DDR3L 15.6 750GB 7200 5500...  \n",
       "2  2in1 13.3 i5 6GB 1TB Q302LA BBI5T19 2 1 13.3 i5 6GB 1TB 10 13.3 5th i5 5200U 6GB 1TB 3.75 0.87 2...  "
      ]
     },
     "execution_count": 105,
     "metadata": {},
     "output_type": "execute_result"
    }
   ],
   "source": [
    "B['Parameters'] = B['Name'] + \" \" + B['Description']+ \" \" + B['Features']\n",
    "B['Parameters'] = B['Parameters'].apply(filter_tokens_with_digits)\n",
    "B.head(3)"
   ]
  },
  {
   "cell_type": "markdown",
   "metadata": {},
   "source": [
    "# Extract terms based on tfidf score"
   ]
  },
  {
   "cell_type": "code",
   "execution_count": 106,
   "metadata": {},
   "outputs": [],
   "source": [
    "from sklearn.feature_extraction.text import TfidfVectorizer\n",
    "import numpy as np\n",
    "tf = TfidfVectorizer(input='content', analyzer='word', ngram_range=(1,1),\n",
    "                      min_df = 0, stop_words = 'english', sublinear_tf=True)"
   ]
  },
  {
   "cell_type": "code",
   "execution_count": 107,
   "metadata": {},
   "outputs": [
    {
     "data": {
      "text/plain": [
       "TfidfVectorizer(min_df=0, stop_words='english', sublinear_tf=True)"
      ]
     },
     "execution_count": 107,
     "metadata": {},
     "output_type": "execute_result"
    }
   ],
   "source": [
    "# Fit A and B to be one big corpus of terms\n",
    "tf.fit((A['Brand'] + ' ' + A['Name']).fillna(\"\"))\n",
    "tf.fit((B['Brand'] + ' ' + B['Name']).fillna(\"\"))"
   ]
  },
  {
   "cell_type": "code",
   "execution_count": 108,
   "metadata": {},
   "outputs": [],
   "source": [
    "# TFIDF for set A\n",
    "tfidf_matrix =  tf.transform((A['Brand'] + ' ' + A['Name']).fillna(\"\"))\n",
    "feature_array = np.array(tf.get_feature_names())\n",
    "def extract_top_tfidf(column):\n",
    "     response = tf.transform([column])\n",
    "     tfidf_sorting = np.argsort(response.toarray()).flatten()[::-1]\n",
    "     n = 5\n",
    "     top_n = feature_array[tfidf_sorting][:n]\n",
    "     # stringify\n",
    "     return \" \".join(top_n)\n",
    "A['tfidf'] = ((A['Brand'] + ' ' + A['Name']).fillna(\"\")).apply(extract_top_tfidf)"
   ]
  },
  {
   "cell_type": "code",
   "execution_count": 109,
   "metadata": {},
   "outputs": [],
   "source": [
    "# TFIDF for set B\n",
    "tfidf_matrix =  tf.transform((B['Brand'] + ' ' + B['Name']).fillna(\"\"))\n",
    "feature_array = np.array(tf.get_feature_names())\n",
    "def extract_top_tfidf(column):\n",
    "     response = tf.transform([column])\n",
    "     tfidf_sorting = np.argsort(response.toarray()).flatten()[::-1]\n",
    "     n = 5\n",
    "     top_n = feature_array[tfidf_sorting][:n]\n",
    "     # stringify\n",
    "     return \" \".join(top_n)\n",
    "B['tfidf'] = ((B['Brand'] + ' ' +B['Name']).fillna(\"\")).apply(extract_top_tfidf)"
   ]
  },
  {
   "cell_type": "code",
   "execution_count": 110,
   "metadata": {},
   "outputs": [
    {
     "data": {
      "text/html": [
       "<div>\n",
       "<style scoped>\n",
       "    .dataframe tbody tr th:only-of-type {\n",
       "        vertical-align: middle;\n",
       "    }\n",
       "\n",
       "    .dataframe tbody tr th {\n",
       "        vertical-align: top;\n",
       "    }\n",
       "\n",
       "    .dataframe thead th {\n",
       "        text-align: right;\n",
       "    }\n",
       "</style>\n",
       "<table border=\"1\" class=\"dataframe\">\n",
       "  <thead>\n",
       "    <tr style=\"text-align: right;\">\n",
       "      <th></th>\n",
       "      <th>ID</th>\n",
       "      <th>Brand</th>\n",
       "      <th>Name</th>\n",
       "      <th>Amazon_Price</th>\n",
       "      <th>Original_Price</th>\n",
       "      <th>Features</th>\n",
       "      <th>Parameters</th>\n",
       "      <th>tfidf</th>\n",
       "    </tr>\n",
       "  </thead>\n",
       "  <tbody>\n",
       "    <tr>\n",
       "      <th>0</th>\n",
       "      <td>1</td>\n",
       "      <td>Asus</td>\n",
       "      <td>ASUS X205TA 11.6 Inch Laptop (Intel Atom, 2 GB, 32GB SSD, Gold) - Free Upgrade to Windows 10</td>\n",
       "      <td>$199.00</td>\n",
       "      <td>NaN</td>\n",
       "      <td>Intel Atom 1.33 GHz Processor. 2 GB DDR3 RAM. 32GB SSD Storage; No Optical Drive. 11.6 inches 13...</td>\n",
       "      <td>X205TA 11.6 2 32GB 10 1.33 2 DDR3 32GB 11.6 1366 768 8.1</td>\n",
       "      <td>inch upgrade x205ta asus ssd</td>\n",
       "    </tr>\n",
       "    <tr>\n",
       "      <th>1</th>\n",
       "      <td>2</td>\n",
       "      <td>Other</td>\n",
       "      <td>AmazonBasics 11.6-Inch Laptop Sleeve</td>\n",
       "      <td>$9.99</td>\n",
       "      <td>NaN</td>\n",
       "      <td>Form-fitting sleeve with quick top-loading access for Chromebooks and MacBook Air laptops. Preci...</td>\n",
       "      <td>11.6 11.6 11.4 0.4 8.4 12.2 0.8 9</td>\n",
       "      <td>inch sleeve 11 laptop zseries</td>\n",
       "    </tr>\n",
       "  </tbody>\n",
       "</table>\n",
       "</div>"
      ],
      "text/plain": [
       "   ID  Brand  \\\n",
       "0   1   Asus   \n",
       "1   2  Other   \n",
       "\n",
       "                                                                                           Name  \\\n",
       "0  ASUS X205TA 11.6 Inch Laptop (Intel Atom, 2 GB, 32GB SSD, Gold) - Free Upgrade to Windows 10   \n",
       "1                                                          AmazonBasics 11.6-Inch Laptop Sleeve   \n",
       "\n",
       "  Amazon_Price Original_Price  \\\n",
       "0      $199.00            NaN   \n",
       "1        $9.99            NaN   \n",
       "\n",
       "                                                                                              Features  \\\n",
       "0  Intel Atom 1.33 GHz Processor. 2 GB DDR3 RAM. 32GB SSD Storage; No Optical Drive. 11.6 inches 13...   \n",
       "1  Form-fitting sleeve with quick top-loading access for Chromebooks and MacBook Air laptops. Preci...   \n",
       "\n",
       "                                                 Parameters  \\\n",
       "0  X205TA 11.6 2 32GB 10 1.33 2 DDR3 32GB 11.6 1366 768 8.1   \n",
       "1                         11.6 11.6 11.4 0.4 8.4 12.2 0.8 9   \n",
       "\n",
       "                           tfidf  \n",
       "0   inch upgrade x205ta asus ssd  \n",
       "1  inch sleeve 11 laptop zseries  "
      ]
     },
     "execution_count": 110,
     "metadata": {},
     "output_type": "execute_result"
    }
   ],
   "source": [
    "A.head(2)"
   ]
  },
  {
   "cell_type": "code",
   "execution_count": 111,
   "metadata": {},
   "outputs": [
    {
     "data": {
      "text/html": [
       "<div>\n",
       "<style scoped>\n",
       "    .dataframe tbody tr th:only-of-type {\n",
       "        vertical-align: middle;\n",
       "    }\n",
       "\n",
       "    .dataframe tbody tr th {\n",
       "        vertical-align: top;\n",
       "    }\n",
       "\n",
       "    .dataframe thead th {\n",
       "        text-align: right;\n",
       "    }\n",
       "</style>\n",
       "<table border=\"1\" class=\"dataframe\">\n",
       "  <thead>\n",
       "    <tr style=\"text-align: right;\">\n",
       "      <th></th>\n",
       "      <th>ID</th>\n",
       "      <th>Brand</th>\n",
       "      <th>Name</th>\n",
       "      <th>Price</th>\n",
       "      <th>Description</th>\n",
       "      <th>Features</th>\n",
       "      <th>Parameters</th>\n",
       "      <th>tfidf</th>\n",
       "    </tr>\n",
       "  </thead>\n",
       "  <tbody>\n",
       "    <tr>\n",
       "      <th>0</th>\n",
       "      <td>1</td>\n",
       "      <td>Asus</td>\n",
       "      <td>Asus 11.6 Laptop Intel Atom 2GB Memory 32GB Flash Storage Blue X205TA-SATM0404G</td>\n",
       "      <td>$189.99</td>\n",
       "      <td>11.6&amp;#34; Laptop - Intel Atom - 2GB Memory - 32GB Flash Storage, Read customer reviews and buy o...</td>\n",
       "      <td>Microsoft Windows 8.1 operating system preinstalled,Intel?? Atom??? processor Z3735F,2GB DDR3L m...</td>\n",
       "      <td>11.6 2GB 32GB X205TA SATM0404G 11.6 2GB 32GB 8.1 Z3735F 2GB DDR3L 11.6 32GB 0.3MP 2 2.0 802.11a ...</td>\n",
       "      <td>satm0404g x205ta asus atom storage</td>\n",
       "    </tr>\n",
       "    <tr>\n",
       "      <th>1</th>\n",
       "      <td>2</td>\n",
       "      <td>HP</td>\n",
       "      <td>HP 15.6 TouchScreen Laptop Intel Core i3 6GB Memory 750GB Hard Drive Black 15-r264dx</td>\n",
       "      <td>$379.99</td>\n",
       "      <td>15.6&amp;#34; Touch-Screen Laptop - Intel Core i3 - 6GB Memory - 750GB Hard Drive, Read customer rev...</td>\n",
       "      <td>Microsoft Windows 8.1 operating system preinstalled,5th Gen Intel?? Core??? i3-5010U processor,I...</td>\n",
       "      <td>15.6 i3 6GB 750GB 15 r264dx 15.6 i3 6GB 750GB 8.1 5th i3 5010U i3 6GB DDR3L 15.6 750GB 7200 5500...</td>\n",
       "      <td>r264dx 750gb hp 6gb i3</td>\n",
       "    </tr>\n",
       "  </tbody>\n",
       "</table>\n",
       "</div>"
      ],
      "text/plain": [
       "   ID Brand  \\\n",
       "0   1  Asus   \n",
       "1   2    HP   \n",
       "\n",
       "                                                                                    Name  \\\n",
       "0       Asus 11.6 Laptop Intel Atom 2GB Memory 32GB Flash Storage Blue X205TA-SATM0404G    \n",
       "1  HP 15.6 TouchScreen Laptop Intel Core i3 6GB Memory 750GB Hard Drive Black 15-r264dx    \n",
       "\n",
       "     Price  \\\n",
       "0  $189.99   \n",
       "1  $379.99   \n",
       "\n",
       "                                                                                           Description  \\\n",
       "0  11.6&#34; Laptop - Intel Atom - 2GB Memory - 32GB Flash Storage, Read customer reviews and buy o...   \n",
       "1  15.6&#34; Touch-Screen Laptop - Intel Core i3 - 6GB Memory - 750GB Hard Drive, Read customer rev...   \n",
       "\n",
       "                                                                                              Features  \\\n",
       "0  Microsoft Windows 8.1 operating system preinstalled,Intel?? Atom??? processor Z3735F,2GB DDR3L m...   \n",
       "1  Microsoft Windows 8.1 operating system preinstalled,5th Gen Intel?? Core??? i3-5010U processor,I...   \n",
       "\n",
       "                                                                                            Parameters  \\\n",
       "0  11.6 2GB 32GB X205TA SATM0404G 11.6 2GB 32GB 8.1 Z3735F 2GB DDR3L 11.6 32GB 0.3MP 2 2.0 802.11a ...   \n",
       "1  15.6 i3 6GB 750GB 15 r264dx 15.6 i3 6GB 750GB 8.1 5th i3 5010U i3 6GB DDR3L 15.6 750GB 7200 5500...   \n",
       "\n",
       "                                tfidf  \n",
       "0  satm0404g x205ta asus atom storage  \n",
       "1              r264dx 750gb hp 6gb i3  "
      ]
     },
     "execution_count": 111,
     "metadata": {},
     "output_type": "execute_result"
    }
   ],
   "source": [
    "B.head(2)"
   ]
  },
  {
   "cell_type": "markdown",
   "metadata": {},
   "source": [
    "## Persist A and B with new features to be available for the matching\n"
   ]
  },
  {
   "cell_type": "code",
   "execution_count": 112,
   "metadata": {},
   "outputs": [
    {
     "data": {
      "text/plain": [
       "True"
      ]
     },
     "execution_count": 112,
     "metadata": {},
     "output_type": "execute_result"
    }
   ],
   "source": [
    "# Read the CSV files and set 'ID' as the key attribute\n",
    "em.to_csv_metadata(A, file_path=\"../dataset/amazon_new_features.csv\")\n",
    "em.to_csv_metadata(B, file_path=\"../dataset/best_buy_new_features.csv\")"
   ]
  },
  {
   "cell_type": "markdown",
   "metadata": {},
   "source": [
    "# Block Tables and Make Set of Candidates\n",
    "\n",
    "Obviously having 21'299'259 records as a cross product between `A` and `B` is quite high value. What we are going to do now is to reduce obviously non-matching pairs. This process is called blocking tables `A` and `B`. We can use 2 of the blocking mechanisms provided by *py_entitymatching* and namely that would be:\n",
    " - attribute equivalence\n",
    " - overlap\n",
    "We know that for an electronics to match , it should be the same `Brand`, so this should match. Sometimes it can have error or typo in the brand, so we can use overlap for tokens in the `Name` and `Description`. Here is the blocking plan:"
   ]
  },
  {
   "cell_type": "code",
   "execution_count": null,
   "metadata": {},
   "outputs": [],
   "source": []
  },
  {
   "cell_type": "code",
   "execution_count": 113,
   "metadata": {},
   "outputs": [],
   "source": [
    "# Blocking plan\n",
    "\n",
    "# A, B -- AttrEquivalence blocker [Brand]--|\n",
    "#                                        |---Overlap[Parameters]-Overlap[tfidf]--> candidate set\n",
    "# A, B -- Overlap blocker [Name]-----------|"
   ]
  },
  {
   "cell_type": "code",
   "execution_count": 114,
   "metadata": {},
   "outputs": [
    {
     "data": {
      "text/plain": [
       "4439971"
      ]
     },
     "execution_count": 114,
     "metadata": {},
     "output_type": "execute_result"
    }
   ],
   "source": [
    "# Create attribute equivalence blocker\n",
    "ab = em.AttrEquivalenceBlocker()\n",
    "# Block tables using 'year' attribute : same year include in candidate set\n",
    "C1 = ab.block_tables(A, B, 'Brand', 'Brand', \n",
    "                     l_output_attrs=['Brand','Name','Amazon_Price','Original_Price','Features','Parameters','tfidf'],\n",
    "                     r_output_attrs=['Brand','Name','Price','Description','Features','Parameters','tfidf']\n",
    "                    )\n",
    "len(C1)"
   ]
  },
  {
   "cell_type": "code",
   "execution_count": 115,
   "metadata": {},
   "outputs": [
    {
     "data": {
      "text/html": [
       "<div>\n",
       "<style scoped>\n",
       "    .dataframe tbody tr th:only-of-type {\n",
       "        vertical-align: middle;\n",
       "    }\n",
       "\n",
       "    .dataframe tbody tr th {\n",
       "        vertical-align: top;\n",
       "    }\n",
       "\n",
       "    .dataframe thead th {\n",
       "        text-align: right;\n",
       "    }\n",
       "</style>\n",
       "<table border=\"1\" class=\"dataframe\">\n",
       "  <thead>\n",
       "    <tr style=\"text-align: right;\">\n",
       "      <th></th>\n",
       "      <th>_id</th>\n",
       "      <th>ltable_ID</th>\n",
       "      <th>rtable_ID</th>\n",
       "      <th>ltable_Brand</th>\n",
       "      <th>ltable_Name</th>\n",
       "      <th>ltable_Amazon_Price</th>\n",
       "      <th>ltable_Original_Price</th>\n",
       "      <th>ltable_Features</th>\n",
       "      <th>ltable_Parameters</th>\n",
       "      <th>ltable_tfidf</th>\n",
       "      <th>rtable_Brand</th>\n",
       "      <th>rtable_Name</th>\n",
       "      <th>rtable_Price</th>\n",
       "      <th>rtable_Description</th>\n",
       "      <th>rtable_Features</th>\n",
       "      <th>rtable_Parameters</th>\n",
       "      <th>rtable_tfidf</th>\n",
       "    </tr>\n",
       "  </thead>\n",
       "  <tbody>\n",
       "    <tr>\n",
       "      <th>0</th>\n",
       "      <td>0</td>\n",
       "      <td>1</td>\n",
       "      <td>1</td>\n",
       "      <td>Asus</td>\n",
       "      <td>ASUS X205TA 11.6 Inch Laptop (Intel Atom, 2 GB, 32GB SSD, Gold) - Free Upgrade to Windows 10</td>\n",
       "      <td>$199.00</td>\n",
       "      <td>NaN</td>\n",
       "      <td>Intel Atom 1.33 GHz Processor. 2 GB DDR3 RAM. 32GB SSD Storage; No Optical Drive. 11.6 inches 13...</td>\n",
       "      <td>X205TA 11.6 2 32GB 10 1.33 2 DDR3 32GB 11.6 1366 768 8.1</td>\n",
       "      <td>inch upgrade x205ta asus ssd</td>\n",
       "      <td>Asus</td>\n",
       "      <td>Asus 11.6 Laptop Intel Atom 2GB Memory 32GB Flash Storage Blue X205TA-SATM0404G</td>\n",
       "      <td>$189.99</td>\n",
       "      <td>11.6&amp;#34; Laptop - Intel Atom - 2GB Memory - 32GB Flash Storage, Read customer reviews and buy o...</td>\n",
       "      <td>Microsoft Windows 8.1 operating system preinstalled,Intel?? Atom??? processor Z3735F,2GB DDR3L m...</td>\n",
       "      <td>11.6 2GB 32GB X205TA SATM0404G 11.6 2GB 32GB 8.1 Z3735F 2GB DDR3L 11.6 32GB 0.3MP 2 2.0 802.11a ...</td>\n",
       "      <td>satm0404g x205ta asus atom storage</td>\n",
       "    </tr>\n",
       "    <tr>\n",
       "      <th>1</th>\n",
       "      <td>1</td>\n",
       "      <td>1</td>\n",
       "      <td>3</td>\n",
       "      <td>Asus</td>\n",
       "      <td>ASUS X205TA 11.6 Inch Laptop (Intel Atom, 2 GB, 32GB SSD, Gold) - Free Upgrade to Windows 10</td>\n",
       "      <td>$199.00</td>\n",
       "      <td>NaN</td>\n",
       "      <td>Intel Atom 1.33 GHz Processor. 2 GB DDR3 RAM. 32GB SSD Storage; No Optical Drive. 11.6 inches 13...</td>\n",
       "      <td>X205TA 11.6 2 32GB 10 1.33 2 DDR3 32GB 11.6 1366 768 8.1</td>\n",
       "      <td>inch upgrade x205ta asus ssd</td>\n",
       "      <td>Asus</td>\n",
       "      <td>Asus 2in1 13.3 TouchScreen Laptop Intel Core i5 6GB Memory 1TB Hard Drive Black Q302LA-BBI5T19</td>\n",
       "      <td>$749.99</td>\n",
       "      <td>2-in-1 13.3&amp;#34; Touch-Screen Laptop - Intel Core i5 - 6GB Memory - 1TB Hard Drive, Read custome...</td>\n",
       "      <td>Microsoft Windows 10 operating system,13.3 TFT-LCD touch screen for hands-on control,5th Gen Int...</td>\n",
       "      <td>2in1 13.3 i5 6GB 1TB Q302LA BBI5T19 2 1 13.3 i5 6GB 1TB 10 13.3 5th i5 5200U 6GB 1TB 3.75 0.87 2...</td>\n",
       "      <td>bbi5t19 q302la asus 6gb 2in1</td>\n",
       "    </tr>\n",
       "  </tbody>\n",
       "</table>\n",
       "</div>"
      ],
      "text/plain": [
       "   _id  ltable_ID  rtable_ID ltable_Brand  \\\n",
       "0    0          1          1         Asus   \n",
       "1    1          1          3         Asus   \n",
       "\n",
       "                                                                                    ltable_Name  \\\n",
       "0  ASUS X205TA 11.6 Inch Laptop (Intel Atom, 2 GB, 32GB SSD, Gold) - Free Upgrade to Windows 10   \n",
       "1  ASUS X205TA 11.6 Inch Laptop (Intel Atom, 2 GB, 32GB SSD, Gold) - Free Upgrade to Windows 10   \n",
       "\n",
       "  ltable_Amazon_Price ltable_Original_Price  \\\n",
       "0             $199.00                   NaN   \n",
       "1             $199.00                   NaN   \n",
       "\n",
       "                                                                                       ltable_Features  \\\n",
       "0  Intel Atom 1.33 GHz Processor. 2 GB DDR3 RAM. 32GB SSD Storage; No Optical Drive. 11.6 inches 13...   \n",
       "1  Intel Atom 1.33 GHz Processor. 2 GB DDR3 RAM. 32GB SSD Storage; No Optical Drive. 11.6 inches 13...   \n",
       "\n",
       "                                          ltable_Parameters  \\\n",
       "0  X205TA 11.6 2 32GB 10 1.33 2 DDR3 32GB 11.6 1366 768 8.1   \n",
       "1  X205TA 11.6 2 32GB 10 1.33 2 DDR3 32GB 11.6 1366 768 8.1   \n",
       "\n",
       "                   ltable_tfidf rtable_Brand  \\\n",
       "0  inch upgrade x205ta asus ssd         Asus   \n",
       "1  inch upgrade x205ta asus ssd         Asus   \n",
       "\n",
       "                                                                                       rtable_Name  \\\n",
       "0                 Asus 11.6 Laptop Intel Atom 2GB Memory 32GB Flash Storage Blue X205TA-SATM0404G    \n",
       "1  Asus 2in1 13.3 TouchScreen Laptop Intel Core i5 6GB Memory 1TB Hard Drive Black Q302LA-BBI5T19    \n",
       "\n",
       "  rtable_Price  \\\n",
       "0      $189.99   \n",
       "1      $749.99   \n",
       "\n",
       "                                                                                    rtable_Description  \\\n",
       "0  11.6&#34; Laptop - Intel Atom - 2GB Memory - 32GB Flash Storage, Read customer reviews and buy o...   \n",
       "1  2-in-1 13.3&#34; Touch-Screen Laptop - Intel Core i5 - 6GB Memory - 1TB Hard Drive, Read custome...   \n",
       "\n",
       "                                                                                       rtable_Features  \\\n",
       "0  Microsoft Windows 8.1 operating system preinstalled,Intel?? Atom??? processor Z3735F,2GB DDR3L m...   \n",
       "1  Microsoft Windows 10 operating system,13.3 TFT-LCD touch screen for hands-on control,5th Gen Int...   \n",
       "\n",
       "                                                                                     rtable_Parameters  \\\n",
       "0  11.6 2GB 32GB X205TA SATM0404G 11.6 2GB 32GB 8.1 Z3735F 2GB DDR3L 11.6 32GB 0.3MP 2 2.0 802.11a ...   \n",
       "1  2in1 13.3 i5 6GB 1TB Q302LA BBI5T19 2 1 13.3 i5 6GB 1TB 10 13.3 5th i5 5200U 6GB 1TB 3.75 0.87 2...   \n",
       "\n",
       "                         rtable_tfidf  \n",
       "0  satm0404g x205ta asus atom storage  \n",
       "1        bbi5t19 q302la asus 6gb 2in1  "
      ]
     },
     "execution_count": 115,
     "metadata": {},
     "output_type": "execute_result"
    }
   ],
   "source": [
    "C1.head(2)"
   ]
  },
  {
   "cell_type": "code",
   "execution_count": 116,
   "metadata": {},
   "outputs": [
    {
     "name": "stderr",
     "output_type": "stream",
     "text": [
      "/home/bobi/anaconda3/lib/python3.9/site-packages/py_entitymatching/blocker/overlap_blocker.py:258: SettingWithCopyWarning: \n",
      "A value is trying to be set on a copy of a slice from a DataFrame.\n",
      "Try using .loc[row_indexer,col_indexer] = value instead\n",
      "\n",
      "See the caveats in the documentation: https://pandas.pydata.org/pandas-docs/stable/user_guide/indexing.html#returning-a-view-versus-a-copy\n",
      "  l_df[l_dummy_overlap_attr] = l_df[l_overlap_attr]\n",
      "/home/bobi/anaconda3/lib/python3.9/site-packages/py_entitymatching/blocker/overlap_blocker.py:259: SettingWithCopyWarning: \n",
      "A value is trying to be set on a copy of a slice from a DataFrame.\n",
      "Try using .loc[row_indexer,col_indexer] = value instead\n",
      "\n",
      "See the caveats in the documentation: https://pandas.pydata.org/pandas-docs/stable/user_guide/indexing.html#returning-a-view-versus-a-copy\n",
      "  r_df[r_dummy_overlap_attr] = r_df[r_overlap_attr]\n",
      "/home/bobi/anaconda3/lib/python3.9/site-packages/py_entitymatching/blocker/overlap_blocker.py:615: SettingWithCopyWarning: \n",
      "A value is trying to be set on a copy of a slice from a DataFrame.\n",
      "Try using .loc[row_indexer,col_indexer] = value instead\n",
      "\n",
      "See the caveats in the documentation: https://pandas.pydata.org/pandas-docs/stable/user_guide/indexing.html#returning-a-view-versus-a-copy\n",
      "  table[overlap_attr] = values\n",
      "/home/bobi/anaconda3/lib/python3.9/site-packages/py_stringsimjoin/utils/generic_helper.py:76: FutureWarning: In a future version of pandas all arguments of DataFrame.dropna will be keyword-only\n",
      "  projected_dataframe = dataframe[proj_attrs].dropna(0,\n",
      "0% [##############################] 100% | ETA: 00:00:00\n",
      "Total time elapsed: 00:00:04\n"
     ]
    },
    {
     "data": {
      "text/plain": [
       "3253258"
      ]
     },
     "execution_count": 116,
     "metadata": {},
     "output_type": "execute_result"
    }
   ],
   "source": [
    "# Initialize overlap blocker\n",
    "ob = em.OverlapBlocker()\n",
    "# Block over title attribute\n",
    "C2 = ob.block_tables(A, B, 'Name', 'Name', show_progress=True, overlap_size=2)\n",
    "len(C2)"
   ]
  },
  {
   "cell_type": "code",
   "execution_count": 117,
   "metadata": {},
   "outputs": [
    {
     "data": {
      "text/plain": [
       "6855987"
      ]
     },
     "execution_count": 117,
     "metadata": {},
     "output_type": "execute_result"
    }
   ],
   "source": [
    "# Combine the outputs from attr. equivalence blocker and overlap blocker\n",
    "C = em.combine_blocker_outputs_via_union([C1, C2])\n",
    "len(C)"
   ]
  },
  {
   "cell_type": "markdown",
   "metadata": {},
   "source": [
    "### Narrow blocking\n",
    "Still 3253258 is quite big number, so we will try to block again and narrow the candidate set.\n"
   ]
  },
  {
   "cell_type": "code",
   "execution_count": 118,
   "metadata": {},
   "outputs": [
    {
     "name": "stderr",
     "output_type": "stream",
     "text": [
      "0% [##############################] 100% | ETA: 00:00:00\n",
      "Total time elapsed: 00:01:41\n"
     ]
    }
   ],
   "source": [
    "# http://anhaidgroup.github.io/py_entitymatching/v0.1.x/user_manual/create_feats_for_blocking.html#label-create-features-blocking\n",
    "\n",
    "D = ob.block_candset(C, l_overlap_attr='Parameters', r_overlap_attr='Parameters', \\\n",
    "                     word_level=True,overlap_size=1, \\\n",
    "                     allow_missing=True, n_jobs=1, \\\n",
    "                     show_progress=True)"
   ]
  },
  {
   "cell_type": "code",
   "execution_count": 119,
   "metadata": {},
   "outputs": [
    {
     "name": "stdout",
     "output_type": "stream",
     "text": [
      "len(D) = 2769145\n"
     ]
    },
    {
     "data": {
      "text/html": [
       "<div>\n",
       "<style scoped>\n",
       "    .dataframe tbody tr th:only-of-type {\n",
       "        vertical-align: middle;\n",
       "    }\n",
       "\n",
       "    .dataframe tbody tr th {\n",
       "        vertical-align: top;\n",
       "    }\n",
       "\n",
       "    .dataframe thead th {\n",
       "        text-align: right;\n",
       "    }\n",
       "</style>\n",
       "<table border=\"1\" class=\"dataframe\">\n",
       "  <thead>\n",
       "    <tr style=\"text-align: right;\">\n",
       "      <th></th>\n",
       "      <th>_id</th>\n",
       "      <th>ltable_ID</th>\n",
       "      <th>rtable_ID</th>\n",
       "      <th>ltable_Brand</th>\n",
       "      <th>ltable_Name</th>\n",
       "      <th>ltable_Amazon_Price</th>\n",
       "      <th>ltable_Original_Price</th>\n",
       "      <th>ltable_Features</th>\n",
       "      <th>ltable_Parameters</th>\n",
       "      <th>ltable_tfidf</th>\n",
       "      <th>rtable_Brand</th>\n",
       "      <th>rtable_Name</th>\n",
       "      <th>rtable_Price</th>\n",
       "      <th>rtable_Description</th>\n",
       "      <th>rtable_Features</th>\n",
       "      <th>rtable_Parameters</th>\n",
       "      <th>rtable_tfidf</th>\n",
       "    </tr>\n",
       "  </thead>\n",
       "  <tbody>\n",
       "    <tr>\n",
       "      <th>0</th>\n",
       "      <td>0</td>\n",
       "      <td>1</td>\n",
       "      <td>1</td>\n",
       "      <td>Asus</td>\n",
       "      <td>ASUS X205TA 11.6 Inch Laptop (Intel Atom, 2 GB, 32GB SSD, Gold) - Free Upgrade to Windows 10</td>\n",
       "      <td>$199.00</td>\n",
       "      <td>NaN</td>\n",
       "      <td>Intel Atom 1.33 GHz Processor. 2 GB DDR3 RAM. 32GB SSD Storage; No Optical Drive. 11.6 inches 13...</td>\n",
       "      <td>X205TA 11.6 2 32GB 10 1.33 2 DDR3 32GB 11.6 1366 768 8.1</td>\n",
       "      <td>inch upgrade x205ta asus ssd</td>\n",
       "      <td>Asus</td>\n",
       "      <td>Asus 11.6 Laptop Intel Atom 2GB Memory 32GB Flash Storage Blue X205TA-SATM0404G</td>\n",
       "      <td>$189.99</td>\n",
       "      <td>11.6&amp;#34; Laptop - Intel Atom - 2GB Memory - 32GB Flash Storage, Read customer reviews and buy o...</td>\n",
       "      <td>Microsoft Windows 8.1 operating system preinstalled,Intel?? Atom??? processor Z3735F,2GB DDR3L m...</td>\n",
       "      <td>11.6 2GB 32GB X205TA SATM0404G 11.6 2GB 32GB 8.1 Z3735F 2GB DDR3L 11.6 32GB 0.3MP 2 2.0 802.11a ...</td>\n",
       "      <td>satm0404g x205ta asus atom storage</td>\n",
       "    </tr>\n",
       "    <tr>\n",
       "      <th>1</th>\n",
       "      <td>1</td>\n",
       "      <td>1</td>\n",
       "      <td>2</td>\n",
       "      <td>Asus</td>\n",
       "      <td>ASUS X205TA 11.6 Inch Laptop (Intel Atom, 2 GB, 32GB SSD, Gold) - Free Upgrade to Windows 10</td>\n",
       "      <td>$199.00</td>\n",
       "      <td>NaN</td>\n",
       "      <td>Intel Atom 1.33 GHz Processor. 2 GB DDR3 RAM. 32GB SSD Storage; No Optical Drive. 11.6 inches 13...</td>\n",
       "      <td>X205TA 11.6 2 32GB 10 1.33 2 DDR3 32GB 11.6 1366 768 8.1</td>\n",
       "      <td>inch upgrade x205ta asus ssd</td>\n",
       "      <td>HP</td>\n",
       "      <td>HP 15.6 TouchScreen Laptop Intel Core i3 6GB Memory 750GB Hard Drive Black 15-r264dx</td>\n",
       "      <td>$379.99</td>\n",
       "      <td>15.6&amp;#34; Touch-Screen Laptop - Intel Core i3 - 6GB Memory - 750GB Hard Drive, Read customer rev...</td>\n",
       "      <td>Microsoft Windows 8.1 operating system preinstalled,5th Gen Intel?? Core??? i3-5010U processor,I...</td>\n",
       "      <td>15.6 i3 6GB 750GB 15 r264dx 15.6 i3 6GB 750GB 8.1 5th i3 5010U i3 6GB DDR3L 15.6 750GB 7200 5500...</td>\n",
       "      <td>r264dx 750gb hp 6gb i3</td>\n",
       "    </tr>\n",
       "  </tbody>\n",
       "</table>\n",
       "</div>"
      ],
      "text/plain": [
       "   _id  ltable_ID  rtable_ID ltable_Brand  \\\n",
       "0    0          1          1         Asus   \n",
       "1    1          1          2         Asus   \n",
       "\n",
       "                                                                                    ltable_Name  \\\n",
       "0  ASUS X205TA 11.6 Inch Laptop (Intel Atom, 2 GB, 32GB SSD, Gold) - Free Upgrade to Windows 10   \n",
       "1  ASUS X205TA 11.6 Inch Laptop (Intel Atom, 2 GB, 32GB SSD, Gold) - Free Upgrade to Windows 10   \n",
       "\n",
       "  ltable_Amazon_Price ltable_Original_Price  \\\n",
       "0             $199.00                   NaN   \n",
       "1             $199.00                   NaN   \n",
       "\n",
       "                                                                                       ltable_Features  \\\n",
       "0  Intel Atom 1.33 GHz Processor. 2 GB DDR3 RAM. 32GB SSD Storage; No Optical Drive. 11.6 inches 13...   \n",
       "1  Intel Atom 1.33 GHz Processor. 2 GB DDR3 RAM. 32GB SSD Storage; No Optical Drive. 11.6 inches 13...   \n",
       "\n",
       "                                          ltable_Parameters  \\\n",
       "0  X205TA 11.6 2 32GB 10 1.33 2 DDR3 32GB 11.6 1366 768 8.1   \n",
       "1  X205TA 11.6 2 32GB 10 1.33 2 DDR3 32GB 11.6 1366 768 8.1   \n",
       "\n",
       "                   ltable_tfidf rtable_Brand  \\\n",
       "0  inch upgrade x205ta asus ssd         Asus   \n",
       "1  inch upgrade x205ta asus ssd           HP   \n",
       "\n",
       "                                                                             rtable_Name  \\\n",
       "0       Asus 11.6 Laptop Intel Atom 2GB Memory 32GB Flash Storage Blue X205TA-SATM0404G    \n",
       "1  HP 15.6 TouchScreen Laptop Intel Core i3 6GB Memory 750GB Hard Drive Black 15-r264dx    \n",
       "\n",
       "  rtable_Price  \\\n",
       "0      $189.99   \n",
       "1      $379.99   \n",
       "\n",
       "                                                                                    rtable_Description  \\\n",
       "0  11.6&#34; Laptop - Intel Atom - 2GB Memory - 32GB Flash Storage, Read customer reviews and buy o...   \n",
       "1  15.6&#34; Touch-Screen Laptop - Intel Core i3 - 6GB Memory - 750GB Hard Drive, Read customer rev...   \n",
       "\n",
       "                                                                                       rtable_Features  \\\n",
       "0  Microsoft Windows 8.1 operating system preinstalled,Intel?? Atom??? processor Z3735F,2GB DDR3L m...   \n",
       "1  Microsoft Windows 8.1 operating system preinstalled,5th Gen Intel?? Core??? i3-5010U processor,I...   \n",
       "\n",
       "                                                                                     rtable_Parameters  \\\n",
       "0  11.6 2GB 32GB X205TA SATM0404G 11.6 2GB 32GB 8.1 Z3735F 2GB DDR3L 11.6 32GB 0.3MP 2 2.0 802.11a ...   \n",
       "1  15.6 i3 6GB 750GB 15 r264dx 15.6 i3 6GB 750GB 8.1 5th i3 5010U i3 6GB DDR3L 15.6 750GB 7200 5500...   \n",
       "\n",
       "                         rtable_tfidf  \n",
       "0  satm0404g x205ta asus atom storage  \n",
       "1              r264dx 750gb hp 6gb i3  "
      ]
     },
     "execution_count": 119,
     "metadata": {},
     "output_type": "execute_result"
    }
   ],
   "source": [
    "print(f\"len(D) = {len(D)}\")\n",
    "D.head(2)"
   ]
  },
  {
   "cell_type": "code",
   "execution_count": 120,
   "metadata": {},
   "outputs": [
    {
     "name": "stderr",
     "output_type": "stream",
     "text": [
      "/home/bobi/anaconda3/lib/python3.9/site-packages/py_entitymatching/blocker/overlap_blocker.py:615: SettingWithCopyWarning: \n",
      "A value is trying to be set on a copy of a slice from a DataFrame.\n",
      "Try using .loc[row_indexer,col_indexer] = value instead\n",
      "\n",
      "See the caveats in the documentation: https://pandas.pydata.org/pandas-docs/stable/user_guide/indexing.html#returning-a-view-versus-a-copy\n",
      "  table[overlap_attr] = values\n",
      "0% [##############################] 100% | ETA: 00:00:00\n",
      "Total time elapsed: 00:00:31\n"
     ]
    }
   ],
   "source": [
    "# http://anhaidgroup.github.io/py_entitymatching/v0.1.x/user_manual/create_feats_for_blocking.html#label-create-features-blocking\n",
    "\n",
    "E = ob.block_candset(D, l_overlap_attr='tfidf', r_overlap_attr='tfidf', \\\n",
    "                     word_level=True,overlap_size=1, \\\n",
    "                     allow_missing=True, n_jobs=1, \\\n",
    "                     show_progress=True)"
   ]
  },
  {
   "cell_type": "code",
   "execution_count": 121,
   "metadata": {},
   "outputs": [
    {
     "name": "stdout",
     "output_type": "stream",
     "text": [
      "len(E) = 282581\n"
     ]
    },
    {
     "data": {
      "text/html": [
       "<div>\n",
       "<style scoped>\n",
       "    .dataframe tbody tr th:only-of-type {\n",
       "        vertical-align: middle;\n",
       "    }\n",
       "\n",
       "    .dataframe tbody tr th {\n",
       "        vertical-align: top;\n",
       "    }\n",
       "\n",
       "    .dataframe thead th {\n",
       "        text-align: right;\n",
       "    }\n",
       "</style>\n",
       "<table border=\"1\" class=\"dataframe\">\n",
       "  <thead>\n",
       "    <tr style=\"text-align: right;\">\n",
       "      <th></th>\n",
       "      <th>_id</th>\n",
       "      <th>ltable_ID</th>\n",
       "      <th>rtable_ID</th>\n",
       "      <th>ltable_Brand</th>\n",
       "      <th>ltable_Name</th>\n",
       "      <th>ltable_Amazon_Price</th>\n",
       "      <th>ltable_Original_Price</th>\n",
       "      <th>ltable_Features</th>\n",
       "      <th>ltable_Parameters</th>\n",
       "      <th>ltable_tfidf</th>\n",
       "      <th>rtable_Brand</th>\n",
       "      <th>rtable_Name</th>\n",
       "      <th>rtable_Price</th>\n",
       "      <th>rtable_Description</th>\n",
       "      <th>rtable_Features</th>\n",
       "      <th>rtable_Parameters</th>\n",
       "      <th>rtable_tfidf</th>\n",
       "    </tr>\n",
       "  </thead>\n",
       "  <tbody>\n",
       "    <tr>\n",
       "      <th>0</th>\n",
       "      <td>0</td>\n",
       "      <td>1</td>\n",
       "      <td>1</td>\n",
       "      <td>Asus</td>\n",
       "      <td>ASUS X205TA 11.6 Inch Laptop (Intel Atom, 2 GB, 32GB SSD, Gold) - Free Upgrade to Windows 10</td>\n",
       "      <td>$199.00</td>\n",
       "      <td>NaN</td>\n",
       "      <td>Intel Atom 1.33 GHz Processor. 2 GB DDR3 RAM. 32GB SSD Storage; No Optical Drive. 11.6 inches 13...</td>\n",
       "      <td>X205TA 11.6 2 32GB 10 1.33 2 DDR3 32GB 11.6 1366 768 8.1</td>\n",
       "      <td>inch upgrade x205ta asus ssd</td>\n",
       "      <td>Asus</td>\n",
       "      <td>Asus 11.6 Laptop Intel Atom 2GB Memory 32GB Flash Storage Blue X205TA-SATM0404G</td>\n",
       "      <td>$189.99</td>\n",
       "      <td>11.6&amp;#34; Laptop - Intel Atom - 2GB Memory - 32GB Flash Storage, Read customer reviews and buy o...</td>\n",
       "      <td>Microsoft Windows 8.1 operating system preinstalled,Intel?? Atom??? processor Z3735F,2GB DDR3L m...</td>\n",
       "      <td>11.6 2GB 32GB X205TA SATM0404G 11.6 2GB 32GB 8.1 Z3735F 2GB DDR3L 11.6 32GB 0.3MP 2 2.0 802.11a ...</td>\n",
       "      <td>satm0404g x205ta asus atom storage</td>\n",
       "    </tr>\n",
       "    <tr>\n",
       "      <th>2</th>\n",
       "      <td>2</td>\n",
       "      <td>1</td>\n",
       "      <td>3</td>\n",
       "      <td>Asus</td>\n",
       "      <td>ASUS X205TA 11.6 Inch Laptop (Intel Atom, 2 GB, 32GB SSD, Gold) - Free Upgrade to Windows 10</td>\n",
       "      <td>$199.00</td>\n",
       "      <td>NaN</td>\n",
       "      <td>Intel Atom 1.33 GHz Processor. 2 GB DDR3 RAM. 32GB SSD Storage; No Optical Drive. 11.6 inches 13...</td>\n",
       "      <td>X205TA 11.6 2 32GB 10 1.33 2 DDR3 32GB 11.6 1366 768 8.1</td>\n",
       "      <td>inch upgrade x205ta asus ssd</td>\n",
       "      <td>Asus</td>\n",
       "      <td>Asus 2in1 13.3 TouchScreen Laptop Intel Core i5 6GB Memory 1TB Hard Drive Black Q302LA-BBI5T19</td>\n",
       "      <td>$749.99</td>\n",
       "      <td>2-in-1 13.3&amp;#34; Touch-Screen Laptop - Intel Core i5 - 6GB Memory - 1TB Hard Drive, Read custome...</td>\n",
       "      <td>Microsoft Windows 10 operating system,13.3 TFT-LCD touch screen for hands-on control,5th Gen Int...</td>\n",
       "      <td>2in1 13.3 i5 6GB 1TB Q302LA BBI5T19 2 1 13.3 i5 6GB 1TB 10 13.3 5th i5 5200U 6GB 1TB 3.75 0.87 2...</td>\n",
       "      <td>bbi5t19 q302la asus 6gb 2in1</td>\n",
       "    </tr>\n",
       "  </tbody>\n",
       "</table>\n",
       "</div>"
      ],
      "text/plain": [
       "   _id  ltable_ID  rtable_ID ltable_Brand  \\\n",
       "0    0          1          1         Asus   \n",
       "2    2          1          3         Asus   \n",
       "\n",
       "                                                                                    ltable_Name  \\\n",
       "0  ASUS X205TA 11.6 Inch Laptop (Intel Atom, 2 GB, 32GB SSD, Gold) - Free Upgrade to Windows 10   \n",
       "2  ASUS X205TA 11.6 Inch Laptop (Intel Atom, 2 GB, 32GB SSD, Gold) - Free Upgrade to Windows 10   \n",
       "\n",
       "  ltable_Amazon_Price ltable_Original_Price  \\\n",
       "0             $199.00                   NaN   \n",
       "2             $199.00                   NaN   \n",
       "\n",
       "                                                                                       ltable_Features  \\\n",
       "0  Intel Atom 1.33 GHz Processor. 2 GB DDR3 RAM. 32GB SSD Storage; No Optical Drive. 11.6 inches 13...   \n",
       "2  Intel Atom 1.33 GHz Processor. 2 GB DDR3 RAM. 32GB SSD Storage; No Optical Drive. 11.6 inches 13...   \n",
       "\n",
       "                                          ltable_Parameters  \\\n",
       "0  X205TA 11.6 2 32GB 10 1.33 2 DDR3 32GB 11.6 1366 768 8.1   \n",
       "2  X205TA 11.6 2 32GB 10 1.33 2 DDR3 32GB 11.6 1366 768 8.1   \n",
       "\n",
       "                   ltable_tfidf rtable_Brand  \\\n",
       "0  inch upgrade x205ta asus ssd         Asus   \n",
       "2  inch upgrade x205ta asus ssd         Asus   \n",
       "\n",
       "                                                                                       rtable_Name  \\\n",
       "0                 Asus 11.6 Laptop Intel Atom 2GB Memory 32GB Flash Storage Blue X205TA-SATM0404G    \n",
       "2  Asus 2in1 13.3 TouchScreen Laptop Intel Core i5 6GB Memory 1TB Hard Drive Black Q302LA-BBI5T19    \n",
       "\n",
       "  rtable_Price  \\\n",
       "0      $189.99   \n",
       "2      $749.99   \n",
       "\n",
       "                                                                                    rtable_Description  \\\n",
       "0  11.6&#34; Laptop - Intel Atom - 2GB Memory - 32GB Flash Storage, Read customer reviews and buy o...   \n",
       "2  2-in-1 13.3&#34; Touch-Screen Laptop - Intel Core i5 - 6GB Memory - 1TB Hard Drive, Read custome...   \n",
       "\n",
       "                                                                                       rtable_Features  \\\n",
       "0  Microsoft Windows 8.1 operating system preinstalled,Intel?? Atom??? processor Z3735F,2GB DDR3L m...   \n",
       "2  Microsoft Windows 10 operating system,13.3 TFT-LCD touch screen for hands-on control,5th Gen Int...   \n",
       "\n",
       "                                                                                     rtable_Parameters  \\\n",
       "0  11.6 2GB 32GB X205TA SATM0404G 11.6 2GB 32GB 8.1 Z3735F 2GB DDR3L 11.6 32GB 0.3MP 2 2.0 802.11a ...   \n",
       "2  2in1 13.3 i5 6GB 1TB Q302LA BBI5T19 2 1 13.3 i5 6GB 1TB 10 13.3 5th i5 5200U 6GB 1TB 3.75 0.87 2...   \n",
       "\n",
       "                         rtable_tfidf  \n",
       "0  satm0404g x205ta asus atom storage  \n",
       "2        bbi5t19 q302la asus 6gb 2in1  "
      ]
     },
     "execution_count": 121,
     "metadata": {},
     "output_type": "execute_result"
    }
   ],
   "source": [
    "print(f\"len(E) = {len(E)}\")\n",
    "E.head(2)"
   ]
  },
  {
   "cell_type": "code",
   "execution_count": 122,
   "metadata": {},
   "outputs": [],
   "source": [
    "# Sample  candidate set\n",
    "S = em.sample_table(E, 500)\n"
   ]
  },
  {
   "cell_type": "code",
   "execution_count": 123,
   "metadata": {},
   "outputs": [
    {
     "name": "stderr",
     "output_type": "stream",
     "text": [
      "/tmp/ipykernel_8071/620512548.py:1: SettingWithCopyWarning: \n",
      "A value is trying to be set on a copy of a slice from a DataFrame.\n",
      "Try using .loc[row_indexer,col_indexer] = value instead\n",
      "\n",
      "See the caveats in the documentation: https://pandas.pydata.org/pandas-docs/stable/user_guide/indexing.html#returning-a-view-versus-a-copy\n",
      "  S['label'] = 0\n"
     ]
    }
   ],
   "source": [
    "S['label'] = 0\n",
    "\n",
    "# We save this to manually label offline\n",
    "S.to_csv('../dataset/sample_blocked_500.csv')"
   ]
  },
  {
   "cell_type": "markdown",
   "metadata": {},
   "source": [
    "## Manually label data\n",
    "Here we must go and manually label the data, but you can use the previously stored file.\n",
    "In another jupyter notebook we continue from a labeled data from file `sample_blocked_500_labeled.csv`"
   ]
  },
  {
   "cell_type": "code",
   "execution_count": null,
   "metadata": {},
   "outputs": [],
   "source": []
  }
 ],
 "metadata": {
  "kernelspec": {
   "display_name": "Python 3 (ipykernel)",
   "language": "python",
   "name": "python3"
  },
  "language_info": {
   "codemirror_mode": {
    "name": "ipython",
    "version": 3
   },
   "file_extension": ".py",
   "mimetype": "text/x-python",
   "name": "python",
   "nbconvert_exporter": "python",
   "pygments_lexer": "ipython3",
   "version": "3.9.7"
  }
 },
 "nbformat": 4,
 "nbformat_minor": 1
}
